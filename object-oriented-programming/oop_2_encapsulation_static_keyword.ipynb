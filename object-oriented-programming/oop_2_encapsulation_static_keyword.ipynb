{
 "cells": [
  {
   "cell_type": "markdown",
   "metadata": {},
   "source": [
    "Day 1 - what is OOP?\n",
    "Day 1 - need of OOP?\n",
    "Day 1 - fundemental principles - classes object  \n",
    "Day 2 - encapsulation static keyword, collection of objects\n",
    "Day 3 - inheritance polymorphism abstraction"
   ]
  },
  {
   "cell_type": "code",
   "execution_count": null,
   "metadata": {},
   "outputs": [],
   "source": [
    "# Co-ordinate geometry class\n",
    "# 2D Co-ordinate system\n",
    "# find distance between 2 points\n",
    "# find distance of co-ordinate from origin.\n",
    "\n",
    "# line class - given point is on a given line.\n",
    "# find shortest distance between point and line.\n"
   ]
  },
  {
   "cell_type": "code",
   "execution_count": null,
   "metadata": {},
   "outputs": [],
   "source": [
    "class Point:\n",
    "\n",
    "    # X Co-ordinate and Y Co-ordinate.\n",
    "    def __init__(self, x, y): # parameterized constructor\n",
    "\n",
    "        self.x_cod = x\n",
    "        self.y_cod = y\n",
    "\n",
    "    def __str__(self):\n",
    "\n",
    "        return f'<{self.x_cod}, {self.y_cod}>'\n",
    "    \n",
    "    def euclidean_distance(self, other): #1 Point object is self and other is 2nd point object.\n",
    "\n",
    "        return ((self.x_cod - other.x_cod) ** 2 + (self.y_cod - other.y_cod) ** 2) ** 0.5\n",
    "    \n",
    "    def distance_from_origin(self):\n",
    "\n",
    "        return self.euclidean_distance(Point(0,0)) # create class object inside class.\n",
    "    \n",
    "class Line:\n",
    "\n",
    "    def __init__(self, a, b, c):\n",
    "\n",
    "        self.a = a\n",
    "        self.b = b\n",
    "        self.c = c\n",
    "\n",
    "    def __str__(self):\n",
    "\n",
    "        return f'{self.a}X+{self.b}Y+{self.c}'\n",
    "    \n",
    "    def point_on_line(line, point):\n",
    "\n",
    "        if line.a * point.x_cod + line.b * point.y_cod + line.c == 0:\n",
    "\n",
    "            print(f'{point} lies on the line {line}')\n",
    "\n",
    "        else:\n",
    "            print(f'{point} does not lie on the line {line}')\n",
    "\n",
    "    def shortest_dist_from_point_to_line(line, point):\n",
    "\n",
    "        return abs(line.a * point.x_cod + line.b * point.y_cod + line.c) / (( line.a ** 2 + line.b ** 2) ** 0.5)\n",
    "    \n"
   ]
  },
  {
   "cell_type": "code",
   "execution_count": 17,
   "metadata": {},
   "outputs": [
    {
     "data": {
      "text/plain": [
       "3.1622776601683795"
      ]
     },
     "execution_count": 17,
     "metadata": {},
     "output_type": "execute_result"
    }
   ],
   "source": [
    "p1 = Point(0,0)\n",
    "p2 = Point(1,3)\n",
    "\n",
    "# print(p1) # print the return from __str__ magic method.\n",
    "\n",
    "# p1.euclidean_distance(p2)\n",
    "p2.distance_from_origin()\n",
    "\n"
   ]
  },
  {
   "cell_type": "code",
   "execution_count": 30,
   "metadata": {},
   "outputs": [
    {
     "name": "stdout",
     "output_type": "stream",
     "text": [
      "1X+1Y+-2\n",
      "<1, 1>\n",
      "<1, 1> lies on the line 1X+1Y+-2\n"
     ]
    }
   ],
   "source": [
    "l1 = Line(1,1,-2)\n",
    "p1 = Point(1,1)\n",
    "print(l1)\n",
    "print(p1)\n",
    "\n",
    "l1.point_on_line(p1)"
   ]
  },
  {
   "cell_type": "code",
   "execution_count": 35,
   "metadata": {},
   "outputs": [
    {
     "name": "stdout",
     "output_type": "stream",
     "text": [
      "1X+2Y+-4\n",
      "<1, 1>\n"
     ]
    },
    {
     "data": {
      "text/plain": [
       "0.4472135954999579"
      ]
     },
     "execution_count": 35,
     "metadata": {},
     "output_type": "execute_result"
    }
   ],
   "source": [
    "l1 = Line(1,2,-4)\n",
    "p1 = Point(1,1)\n",
    "print(l1)\n",
    "print(p1)\n",
    "\n",
    "l1.shortest_dist_from_point_to_line(p1)"
   ]
  },
  {
   "cell_type": "code",
   "execution_count": 36,
   "metadata": {},
   "outputs": [
    {
     "data": {
      "text/plain": [
       "<__main__.Line at 0x225d2e97990>"
      ]
     },
     "execution_count": 36,
     "metadata": {},
     "output_type": "execute_result"
    }
   ],
   "source": [
    "# Create attribute outside the class.\n",
    "l1"
   ]
  },
  {
   "cell_type": "code",
   "execution_count": null,
   "metadata": {},
   "outputs": [],
   "source": [
    "# reference value\n",
    "\n",
    "# object created without reference (Line()). It just created in memory. It may not be usefull because you can not access it.\n",
    "\n",
    "# l = Line() # l has reference / memory address of the object Line(). l is reference variable.\n",
    "# l1 = l # is possible. l1 and l are pointing to same address.\n",
    "\n",
    "# print(id(l)) is same as print(id(l1))\n",
    "# change in one reference variable changes other reference variable as well.\n"
   ]
  },
  {
   "cell_type": "code",
   "execution_count": null,
   "metadata": {},
   "outputs": [],
   "source": [
    "# Pass by reference\n",
    "\n",
    "# We can send objects as inputs to function (outside function)\n",
    "\n",
    "# A outside function can return a class object."
   ]
  },
  {
   "cell_type": "code",
   "execution_count": null,
   "metadata": {},
   "outputs": [],
   "source": [
    "# Mutable and Immutable objects\n",
    "\n",
    "# Python objects are mutable by default.\n",
    "\n",
    "# You can objects immutable - need to check."
   ]
  },
  {
   "cell_type": "code",
   "execution_count": null,
   "metadata": {},
   "outputs": [],
   "source": [
    "# instance variable -> attributes of class. -> values of which are different for different objects of the class.\n",
    "\n",
    "# pythontutor."
   ]
  },
  {
   "cell_type": "code",
   "execution_count": null,
   "metadata": {},
   "outputs": [],
   "source": [
    "# Encapsulation\n",
    "\n",
    "    # objects can access variables / attributes from outside\n",
    "    # To avoid this you can use private variables. Use ___ before the attributes and methods.\n",
    "    # Now the private attributes are not visible to objects.\n",
    "    # Private variables name is changed in memory... __attrbutename -> _classname__attributename\n",
    "    # If some one changes value of private varaible __attribute = some value.\n",
    "    ## It creates new variable __attribute but does not change the original private variable which is used as _classname__attribute.\n",
    "\n",
    "    # In python nothing truly private.  reason - python programming is for adults.\n",
    "\n",
    "    # class data / variables / attribues make is private.\n",
    "\n",
    "# create methods that show the values of private variables outside the class.\n",
    "# getter and setter methods in the class to expose attributes outside vehicle.\n",
    "# any name can be given to getter and setter methods.\n",
    "# getter method - get values from outside. setter method - set values from outside.\n",
    "\n"
   ]
  },
  {
   "cell_type": "code",
   "execution_count": null,
   "metadata": {},
   "outputs": [],
   "source": [
    "# Collection of Objects\n",
    "# store objects in list , sets and dictionary"
   ]
  },
  {
   "cell_type": "code",
   "execution_count": null,
   "metadata": {},
   "outputs": [],
   "source": [
    "# Static variables\n",
    "# using instance variable (obj var) you can not implement a counter. -> different for objects.\n",
    "# static variable -> class variable. -> same for all objects.\n",
    "\n",
    "# You can create method with no self\n",
    "# access the method using class.method() - called with class - static method.\n",
    "# @staticmethod. # utility function - small function that don need objeccts.\n",
    "# '@' - decorator - advance topic.\n",
    "\n",
    "# class method vs static method??."
   ]
  },
  {
   "cell_type": "code",
   "execution_count": null,
   "metadata": {},
   "outputs": [],
   "source": []
  }
 ],
 "metadata": {
  "kernelspec": {
   "display_name": "base",
   "language": "python",
   "name": "python3"
  },
  "language_info": {
   "codemirror_mode": {
    "name": "ipython",
    "version": 3
   },
   "file_extension": ".py",
   "mimetype": "text/x-python",
   "name": "python",
   "nbconvert_exporter": "python",
   "pygments_lexer": "ipython3",
   "version": "3.11.5"
  }
 },
 "nbformat": 4,
 "nbformat_minor": 2
}
