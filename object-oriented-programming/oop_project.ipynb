{
 "cells": [
  {
   "cell_type": "markdown",
   "metadata": {},
   "source": [
    "OOP Project\n",
    "\n",
    "NLP related project"
   ]
  },
  {
   "cell_type": "code",
   "execution_count": null,
   "metadata": {},
   "outputs": [],
   "source": [
    "# NLP Cloud - API (Application Programming INterface) Provider - API Key - dda74c1f429e440d092c5784e7bcca76648a38ce"
   ]
  },
  {
   "cell_type": "code",
   "execution_count": null,
   "metadata": {},
   "outputs": [
    {
     "data": {
      "text/plain": [
       "'\\n1. NER\\n2. Language Detection\\n3. Sentiment Analysis\\n'"
      ]
     },
     "execution_count": 1,
     "metadata": {},
     "output_type": "execute_result"
    }
   ],
   "source": [
    "\n",
    "# Integrate NLP use cases to the software (command promt)\n",
    "# 1. NER\n",
    "# 2. Language Detection\n",
    "# 3. Sentiment Analysis\n"
   ]
  },
  {
   "cell_type": "code",
   "execution_count": 3,
   "metadata": {},
   "outputs": [],
   "source": [
    "import nlpcloud"
   ]
  },
  {
   "cell_type": "code",
   "execution_count": 4,
   "metadata": {},
   "outputs": [
    {
     "data": {
      "text/plain": [
       "{'entities': [{'start': 26,\n",
       "   'end': 36,\n",
       "   'type': 'programming languages',\n",
       "   'text': 'Javascript'},\n",
       "  {'start': 102,\n",
       "   'end': 108,\n",
       "   'type': 'programming languages',\n",
       "   'text': 'Python'},\n",
       "  {'start': 165, 'end': 167, 'type': 'programming languages', 'text': 'Go'}]}"
      ]
     },
     "execution_count": 4,
     "metadata": {},
     "output_type": "execute_result"
    }
   ],
   "source": [
    "client = nlpcloud.Client(\"finetuned-llama-3-70b\", \"dda74c1f429e440d092c5784e7bcca76648a38ce\", gpu=True)\n",
    "client.entities(\n",
    "    \"\"\"John Doe started learning Javascript when he was 15 years old. After a couple of years he switched to Python and starter learning low level programming. He is now a Go expert at Google.\"\"\",\n",
    "    searched_entity=\"programming languages\"\n",
    ")"
   ]
  },
  {
   "cell_type": "code",
   "execution_count": null,
   "metadata": {},
   "outputs": [],
   "source": [
    "# Hello How would like to proceed \n",
    "  # Option 1 - Register -> Name, email, password. Database required. But we will use dictionary as database. We can also use excel, csv.\n",
    "  # Option 2 - Login - NER, Language detection, sentiment analysis, logout -> show main menu.\n",
    "  # Option 3 - Exit."
   ]
  },
  {
   "cell_type": "code",
   "execution_count": 17,
   "metadata": {},
   "outputs": [],
   "source": [
    "import nlpcloud\n",
    "\n",
    "client = nlpcloud.Client(\"finetuned-llama-3-70b\", \"dda74c1f429e440d092c5784e7bcca76648a38ce\", gpu=True)\n",
    "\n",
    "class NLPApp:\n",
    "\n",
    "    def __init__(self):\n",
    "\n",
    "        self.__database = {} # all attributes are genrally private (best practise)\n",
    "        self.__first_menu()\n",
    "\n",
    "    def __first_menu(self):\n",
    "\n",
    "        first_input = input(\"\"\"\n",
    "        Hi! How would you like to proceed.\n",
    "        1. Not a member? Register.\n",
    "        2. Already a member? Login\n",
    "        3. Exit\n",
    "        \"\"\")\n",
    "\n",
    "        if first_input == '1':\n",
    "            self.__register()\n",
    "\n",
    "        elif first_input == '2':\n",
    "            self.__login()\n",
    "\n",
    "        else:\n",
    "            exit()\n",
    "    \n",
    "    def __second_menu(self):\n",
    "\n",
    "        second_input = input(\"\"\"\n",
    "        Hi! How would you like to proceed.\n",
    "        1. NER.\n",
    "        2. Language Detection\n",
    "        3. Sentiment Analysis\n",
    "        4. Logout.\n",
    "        \"\"\")\n",
    "\n",
    "        if second_input == '1':\n",
    "            self.__ner()\n",
    "\n",
    "        elif second_input == '2':\n",
    "            self.__language_detection()\n",
    "        \n",
    "        elif second_input == '3':\n",
    "            self.__sentiment_analysis()\n",
    "\n",
    "        else:\n",
    "            exit()\n",
    "    \n",
    "    def __register(self):\n",
    "        print('register')\n",
    "        name = input('Enter Your Name : ')\n",
    "        email = input('Enter Your email : ')\n",
    "        password = input('Enter Your password : ')\n",
    "        if email in self.__database.keys():\n",
    "            print('Email already exist.')\n",
    "            # self.__login()\n",
    "        else:\n",
    "            self.__database[email] = [name, password] # dictionary keys are unique.\n",
    "            print(self.__database)\n",
    "            print('Registration Successfull !!!. Now you can login.')\n",
    "        self.__login()\n",
    "            \n",
    "\n",
    "    def __login(self):\n",
    "        print('Please login')\n",
    "        email = input('Enter You email : ')\n",
    "        password = input('Enter your password : ')\n",
    "        if email in self.__database.keys():\n",
    "            if self.__database[email][1] == password:\n",
    "                print('Login Successfull !!')\n",
    "                self.__second_menu()\n",
    "            else:\n",
    "                print('Wrong Password. Try Again')\n",
    "                self.__login() # Recursion.\n",
    "        else:\n",
    "            print('You are not registered. Please register')\n",
    "            self.__first_menu()\n",
    "\n",
    "    def __ner(self):\n",
    "\n",
    "        para = input('Enter the paragraph : ')\n",
    "        search_query = input('What would you like to search : ')\n",
    "        client = nlpcloud.Client(\"finetuned-llama-3-70b\", \"dda74c1f429e440d092c5784e7bcca76648a38ce\", gpu=True)\n",
    "        response = client.entities(para, searched_entity=search_query)\n",
    "        response_programming_language = []\n",
    "        for res in response['entities']:\n",
    "            response_programming_language.append(res['text'])\n",
    "        print(f'Programming languages listed in the Paragraph are {response_programming_language}')\n",
    "\n",
    "    def __sentiment_analysis(self):\n",
    "\n",
    "        text = input('Enter the paragraph : ')\n",
    "        # search_query = input('What would you like to search : ')\n",
    "        client = nlpcloud.Client(\"finetuned-llama-3-70b\", \"dda74c1f429e440d092c5784e7bcca76648a38ce\", gpu=True)\n",
    "        response = client.sentiment(text,target=\"NLP Cloud\")\n",
    "        sentiment_score = 0\n",
    "        sentiment_label = ''\n",
    "        response_sentiment = []\n",
    "        for res in response:\n",
    "            if res['score'] > sentiment_score:\n",
    "                sentiment_score = res['score']\n",
    "                sentiment_label = res['label'].upper()\n",
    "            else: \n",
    "                sentiment_score = sentiment_score\n",
    "                sentiment_label = sentiment_label\n",
    "            # response_sentiment.append(res['label'].upper())\n",
    "        print(f'Sentiment of given text is ---- {\" \".join(response_sentiment)}')\n",
    "        \n",
    "\n",
    "\n",
    "\n",
    "    "
   ]
  },
  {
   "cell_type": "code",
   "execution_count": 18,
   "metadata": {},
   "outputs": [
    {
     "name": "stdout",
     "output_type": "stream",
     "text": [
      "register\n",
      "{'a': ['a', 'a']}\n",
      "Registration Successfull !!!. Now you can login.\n",
      "Please login\n",
      "Login Successfull !!\n"
     ]
    },
    {
     "ename": "HTTPError",
     "evalue": "429 Client Error: Too Many Requests for url: https://api.nlpcloud.io/v1/gpu/finetuned-llama-3-70b/sentiment: Rate limit: maximum number of requests per hour reached. Please contact support to learn how to increase this limit (if you are on the free plan, we encourage you to subscribe to the pay-as-you-go plan which provides a much higher throughput and many free requests). You can change your plan here: https://nlpcloud.com/home/plans.",
     "output_type": "error",
     "traceback": [
      "\u001b[1;31m---------------------------------------------------------------------------\u001b[0m",
      "\u001b[1;31mHTTPError\u001b[0m                                 Traceback (most recent call last)",
      "File \u001b[1;32mc:\\Users\\pc\\anaconda3\\Lib\\site-packages\\nlpcloud\\__init__.py:408\u001b[0m, in \u001b[0;36mClient.sentiment\u001b[1;34m(self, text, target)\u001b[0m\n\u001b[0;32m    407\u001b[0m \u001b[38;5;28;01mtry\u001b[39;00m:\n\u001b[1;32m--> 408\u001b[0m     r\u001b[38;5;241m.\u001b[39mraise_for_status()\n\u001b[0;32m    409\u001b[0m \u001b[38;5;28;01mexcept\u001b[39;00m HTTPError \u001b[38;5;28;01mas\u001b[39;00m err:\n",
      "File \u001b[1;32mc:\\Users\\pc\\anaconda3\\Lib\\site-packages\\requests\\models.py:1021\u001b[0m, in \u001b[0;36mResponse.raise_for_status\u001b[1;34m(self)\u001b[0m\n\u001b[0;32m   1020\u001b[0m \u001b[38;5;28;01mif\u001b[39;00m http_error_msg:\n\u001b[1;32m-> 1021\u001b[0m     \u001b[38;5;28;01mraise\u001b[39;00m HTTPError(http_error_msg, response\u001b[38;5;241m=\u001b[39m\u001b[38;5;28mself\u001b[39m)\n",
      "\u001b[1;31mHTTPError\u001b[0m: 429 Client Error: Too Many Requests for url: https://api.nlpcloud.io/v1/gpu/finetuned-llama-3-70b/sentiment",
      "\nDuring handling of the above exception, another exception occurred:\n",
      "\u001b[1;31mHTTPError\u001b[0m                                 Traceback (most recent call last)",
      "Cell \u001b[1;32mIn[18], line 1\u001b[0m\n\u001b[1;32m----> 1\u001b[0m obj \u001b[38;5;241m=\u001b[39m NLPApp()\n",
      "Cell \u001b[1;32mIn[17], line 10\u001b[0m, in \u001b[0;36mNLPApp.__init__\u001b[1;34m(self)\u001b[0m\n\u001b[0;32m      7\u001b[0m \u001b[38;5;28;01mdef\u001b[39;00m \u001b[38;5;21m__init__\u001b[39m(\u001b[38;5;28mself\u001b[39m):\n\u001b[0;32m      9\u001b[0m     \u001b[38;5;28mself\u001b[39m\u001b[38;5;241m.\u001b[39m__database \u001b[38;5;241m=\u001b[39m {} \u001b[38;5;66;03m# all attributes are genrally private (best practise)\u001b[39;00m\n\u001b[1;32m---> 10\u001b[0m     \u001b[38;5;28mself\u001b[39m\u001b[38;5;241m.\u001b[39m__first_menu()\n",
      "Cell \u001b[1;32mIn[17], line 22\u001b[0m, in \u001b[0;36mNLPApp.__first_menu\u001b[1;34m(self)\u001b[0m\n\u001b[0;32m     14\u001b[0m first_input \u001b[38;5;241m=\u001b[39m \u001b[38;5;28minput\u001b[39m(\u001b[38;5;124m\"\"\"\u001b[39m\n\u001b[0;32m     15\u001b[0m \u001b[38;5;124mHi! How would you like to proceed.\u001b[39m\n\u001b[0;32m     16\u001b[0m \u001b[38;5;124m1. Not a member? Register.\u001b[39m\n\u001b[0;32m     17\u001b[0m \u001b[38;5;124m2. Already a member? Login\u001b[39m\n\u001b[0;32m     18\u001b[0m \u001b[38;5;124m3. Exit\u001b[39m\n\u001b[0;32m     19\u001b[0m \u001b[38;5;124m\u001b[39m\u001b[38;5;124m\"\"\"\u001b[39m)\n\u001b[0;32m     21\u001b[0m \u001b[38;5;28;01mif\u001b[39;00m first_input \u001b[38;5;241m==\u001b[39m \u001b[38;5;124m'\u001b[39m\u001b[38;5;124m1\u001b[39m\u001b[38;5;124m'\u001b[39m:\n\u001b[1;32m---> 22\u001b[0m     \u001b[38;5;28mself\u001b[39m\u001b[38;5;241m.\u001b[39m__register()\n\u001b[0;32m     24\u001b[0m \u001b[38;5;28;01melif\u001b[39;00m first_input \u001b[38;5;241m==\u001b[39m \u001b[38;5;124m'\u001b[39m\u001b[38;5;124m2\u001b[39m\u001b[38;5;124m'\u001b[39m:\n\u001b[0;32m     25\u001b[0m     \u001b[38;5;28mself\u001b[39m\u001b[38;5;241m.\u001b[39m__login()\n",
      "Cell \u001b[1;32mIn[17], line 64\u001b[0m, in \u001b[0;36mNLPApp.__register\u001b[1;34m(self)\u001b[0m\n\u001b[0;32m     62\u001b[0m     \u001b[38;5;28mprint\u001b[39m(\u001b[38;5;28mself\u001b[39m\u001b[38;5;241m.\u001b[39m__database)\n\u001b[0;32m     63\u001b[0m     \u001b[38;5;28mprint\u001b[39m(\u001b[38;5;124m'\u001b[39m\u001b[38;5;124mRegistration Successfull !!!. Now you can login.\u001b[39m\u001b[38;5;124m'\u001b[39m)\n\u001b[1;32m---> 64\u001b[0m \u001b[38;5;28mself\u001b[39m\u001b[38;5;241m.\u001b[39m__login()\n",
      "Cell \u001b[1;32mIn[17], line 74\u001b[0m, in \u001b[0;36mNLPApp.__login\u001b[1;34m(self)\u001b[0m\n\u001b[0;32m     72\u001b[0m \u001b[38;5;28;01mif\u001b[39;00m \u001b[38;5;28mself\u001b[39m\u001b[38;5;241m.\u001b[39m__database[email][\u001b[38;5;241m1\u001b[39m] \u001b[38;5;241m==\u001b[39m password:\n\u001b[0;32m     73\u001b[0m     \u001b[38;5;28mprint\u001b[39m(\u001b[38;5;124m'\u001b[39m\u001b[38;5;124mLogin Successfull !!\u001b[39m\u001b[38;5;124m'\u001b[39m)\n\u001b[1;32m---> 74\u001b[0m     \u001b[38;5;28mself\u001b[39m\u001b[38;5;241m.\u001b[39m__second_menu()\n\u001b[0;32m     75\u001b[0m \u001b[38;5;28;01melse\u001b[39;00m:\n\u001b[0;32m     76\u001b[0m     \u001b[38;5;28mprint\u001b[39m(\u001b[38;5;124m'\u001b[39m\u001b[38;5;124mWrong Password. Try Again\u001b[39m\u001b[38;5;124m'\u001b[39m)\n",
      "Cell \u001b[1;32mIn[17], line 47\u001b[0m, in \u001b[0;36mNLPApp.__second_menu\u001b[1;34m(self)\u001b[0m\n\u001b[0;32m     44\u001b[0m     \u001b[38;5;28mself\u001b[39m\u001b[38;5;241m.\u001b[39m__language_detection()\n\u001b[0;32m     46\u001b[0m \u001b[38;5;28;01melif\u001b[39;00m second_input \u001b[38;5;241m==\u001b[39m \u001b[38;5;124m'\u001b[39m\u001b[38;5;124m3\u001b[39m\u001b[38;5;124m'\u001b[39m:\n\u001b[1;32m---> 47\u001b[0m     \u001b[38;5;28mself\u001b[39m\u001b[38;5;241m.\u001b[39m__sentiment_analysis()\n\u001b[0;32m     49\u001b[0m \u001b[38;5;28;01melse\u001b[39;00m:\n\u001b[0;32m     50\u001b[0m     exit()\n",
      "Cell \u001b[1;32mIn[17], line 98\u001b[0m, in \u001b[0;36mNLPApp.__sentiment_analysis\u001b[1;34m(self)\u001b[0m\n\u001b[0;32m     96\u001b[0m \u001b[38;5;66;03m# search_query = input('What would you like to search : ')\u001b[39;00m\n\u001b[0;32m     97\u001b[0m client \u001b[38;5;241m=\u001b[39m nlpcloud\u001b[38;5;241m.\u001b[39mClient(\u001b[38;5;124m\"\u001b[39m\u001b[38;5;124mfinetuned-llama-3-70b\u001b[39m\u001b[38;5;124m\"\u001b[39m, \u001b[38;5;124m\"\u001b[39m\u001b[38;5;124mdda74c1f429e440d092c5784e7bcca76648a38ce\u001b[39m\u001b[38;5;124m\"\u001b[39m, gpu\u001b[38;5;241m=\u001b[39m\u001b[38;5;28;01mTrue\u001b[39;00m)\n\u001b[1;32m---> 98\u001b[0m response \u001b[38;5;241m=\u001b[39m client\u001b[38;5;241m.\u001b[39msentiment(text,target\u001b[38;5;241m=\u001b[39m\u001b[38;5;124m\"\u001b[39m\u001b[38;5;124mNLP Cloud\u001b[39m\u001b[38;5;124m\"\u001b[39m)\n\u001b[0;32m     99\u001b[0m sentiment_score \u001b[38;5;241m=\u001b[39m \u001b[38;5;241m0\u001b[39m\n\u001b[0;32m    100\u001b[0m sentiment_label \u001b[38;5;241m=\u001b[39m \u001b[38;5;124m'\u001b[39m\u001b[38;5;124m'\u001b[39m\n",
      "File \u001b[1;32mc:\\Users\\pc\\anaconda3\\Lib\\site-packages\\nlpcloud\\__init__.py:410\u001b[0m, in \u001b[0;36mClient.sentiment\u001b[1;34m(self, text, target)\u001b[0m\n\u001b[0;32m    408\u001b[0m     r\u001b[38;5;241m.\u001b[39mraise_for_status()\n\u001b[0;32m    409\u001b[0m \u001b[38;5;28;01mexcept\u001b[39;00m HTTPError \u001b[38;5;28;01mas\u001b[39;00m err:\n\u001b[1;32m--> 410\u001b[0m     \u001b[38;5;28;01mraise\u001b[39;00m HTTPError(\u001b[38;5;28mstr\u001b[39m(err) \u001b[38;5;241m+\u001b[39m \u001b[38;5;124m\"\u001b[39m\u001b[38;5;124m: \u001b[39m\u001b[38;5;124m\"\u001b[39m \u001b[38;5;241m+\u001b[39m \u001b[38;5;28mstr\u001b[39m(r\u001b[38;5;241m.\u001b[39mtext))\n\u001b[0;32m    412\u001b[0m \u001b[38;5;28;01mreturn\u001b[39;00m r\u001b[38;5;241m.\u001b[39mjson()\n",
      "\u001b[1;31mHTTPError\u001b[0m: 429 Client Error: Too Many Requests for url: https://api.nlpcloud.io/v1/gpu/finetuned-llama-3-70b/sentiment: Rate limit: maximum number of requests per hour reached. Please contact support to learn how to increase this limit (if you are on the free plan, we encourage you to subscribe to the pay-as-you-go plan which provides a much higher throughput and many free requests). You can change your plan here: https://nlpcloud.com/home/plans."
     ]
    }
   ],
   "source": [
    "obj = NLPApp()"
   ]
  },
  {
   "cell_type": "code",
   "execution_count": 21,
   "metadata": {},
   "outputs": [
    {
     "data": {
      "text/plain": [
       "[(0, 3), (1, 7), (2, 1), (3, 2), (4, 9), (5, 5)]"
      ]
     },
     "execution_count": 21,
     "metadata": {},
     "output_type": "execute_result"
    }
   ],
   "source": [
    "l = [3,7,1,2,9,5]\n",
    "list(enumerate(l))"
   ]
  },
  {
   "cell_type": "code",
   "execution_count": null,
   "metadata": {},
   "outputs": [],
   "source": [
    "# google cloud nlp api\n",
    "\n",
    "\n",
    "# "
   ]
  },
  {
   "cell_type": "code",
   "execution_count": null,
   "metadata": {},
   "outputs": [],
   "source": []
  }
 ],
 "metadata": {
  "kernelspec": {
   "display_name": "base",
   "language": "python",
   "name": "python3"
  },
  "language_info": {
   "codemirror_mode": {
    "name": "ipython",
    "version": 3
   },
   "file_extension": ".py",
   "mimetype": "text/x-python",
   "name": "python",
   "nbconvert_exporter": "python",
   "pygments_lexer": "ipython3",
   "version": "3.11.5"
  }
 },
 "nbformat": 4,
 "nbformat_minor": 2
}
