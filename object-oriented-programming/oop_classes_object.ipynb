{
 "cells": [
  {
   "cell_type": "code",
   "execution_count": 1,
   "metadata": {},
   "outputs": [
    {
     "ename": "AttributeError",
     "evalue": "'list' object has no attribute 'upper'",
     "output_type": "error",
     "traceback": [
      "\u001b[1;31m---------------------------------------------------------------------------\u001b[0m",
      "\u001b[1;31mAttributeError\u001b[0m                            Traceback (most recent call last)",
      "Cell \u001b[1;32mIn[1], line 3\u001b[0m\n\u001b[0;32m      1\u001b[0m L \u001b[38;5;241m=\u001b[39m [\u001b[38;5;241m1\u001b[39m,\u001b[38;5;241m2\u001b[39m,\u001b[38;5;241m3\u001b[39m]\n\u001b[1;32m----> 3\u001b[0m L\u001b[38;5;241m.\u001b[39mupper()\n",
      "\u001b[1;31mAttributeError\u001b[0m: 'list' object has no attribute 'upper'"
     ]
    }
   ],
   "source": [
    "L = [1,2,3]\n",
    "\n",
    "L.upper()"
   ]
  },
  {
   "cell_type": "code",
   "execution_count": null,
   "metadata": {},
   "outputs": [
    {
     "ename": "AttributeError",
     "evalue": "'str' object has no attribute 'append'",
     "output_type": "error",
     "traceback": [
      "\u001b[1;31m---------------------------------------------------------------------------\u001b[0m",
      "\u001b[1;31mAttributeError\u001b[0m                            Traceback (most recent call last)",
      "Cell \u001b[1;32mIn[2], line 3\u001b[0m\n\u001b[0;32m      1\u001b[0m s \u001b[38;5;241m=\u001b[39m \u001b[38;5;124m'\u001b[39m\u001b[38;5;124mhello\u001b[39m\u001b[38;5;124m'\u001b[39m\n\u001b[1;32m----> 3\u001b[0m s\u001b[38;5;241m.\u001b[39mappend(\u001b[38;5;124m'\u001b[39m\u001b[38;5;124mx\u001b[39m\u001b[38;5;124m'\u001b[39m)\n",
      "\u001b[1;31mAttributeError\u001b[0m: 'str' object has no attribute 'append'"
     ]
    }
   ],
   "source": [
    "s = 'hello'\n",
    "\n",
    "s.append('x')"
   ]
  },
  {
   "cell_type": "code",
   "execution_count": null,
   "metadata": {},
   "outputs": [],
   "source": [
    "# python call both list and string as object. everything in python is object\n",
    "# relationship between OOP and Object.\n",
    "# lot of modules for all the features. - procedural approach of coding. - many lines of code. - \n",
    "# adding new features / modification becomes complex.\n",
    "# OOP solves the prpblem.\n",
    "\n",
    "# what problem does the OOP solves.\n",
    "  # generality to specificity\n",
    "  # OOP gives programmer feasibility to create own data types as according to requirement.\n",
    "\n",
    "# OOP\n",
    "  # class\n",
    "    # Inbuilt datatypes are classes - variable created using a data type is called object - in Python\n",
    "    # Class is buleprint - set of rules - which object follows.\n",
    "    # class has - property / data and function / behviour (gives output from input)\n",
    "    # built in classes and use defined classes.\n",
    "    # Class will not give output until a object is created.\n",
    "    # Methods vs Functions\n",
    "      # Method - function inside a class.\n",
    "      # Function - standalone function.\n",
    "    # Class Diagram\n",
    "    # Magic Methods (dunder method)\n",
    "      # special methods - super power - __nameOfMethod__ - ex: __init__ (constructor)\n",
    "      # construtor (__str__) - special method - does not need to call - trigger as soon as object is created.\n",
    "         # construtor is used when creating configuartion related code. (database connection code, internet connection code)\n",
    "         # constructor name is always __init__ no other name.\n",
    "         # Often only one constructor.\n",
    "         # Parameterized constructor.\n",
    "      # __str__. Print the object using __str__ function.\n",
    "      # __add__. automatically trigger when operand +.\n",
    "\n",
    "      # Destructor\n",
    "    # Self - self is default paramters in method. variables / method are called with self prefeix\n",
    "      # Golden rule of OOP - class (rules - attributes & methods), Only class object can access methods and attributes of the class.\n",
    "      # This is where self comes into picture.Both self and obj are pointing to same memory location.\n",
    "      # Every method in the class has a default parameter called self. Self is object of the class hence has the capability to call other methods of class.\n",
    "      # When ever object calls a method, the obj is passed as a parameter to the method. This is hidden parameter.  \n",
    "      # self can be given another name as well.\n",
    "\n",
    "# object\n",
    "    # instance of a class.\n",
    "    # syntax to create a object. object_name = class_name()\n",
    "    # Object literal example, l = [12,3]\n",
    "\n",
    "\n",
    "\n",
    "\n",
    "  # encapsulation\n",
    "  # inheritance\n",
    "  # polymorphism\n",
    "  # abstraction\n",
    "\n",
    "#"
   ]
  },
  {
   "cell_type": "code",
   "execution_count": 3,
   "metadata": {},
   "outputs": [
    {
     "name": "stdout",
     "output_type": "stream",
     "text": [
      "<class 'list'>\n"
     ]
    }
   ],
   "source": [
    "# Object literal.\n",
    "l = [12,3]\n",
    "print(type(l))"
   ]
  },
  {
   "cell_type": "code",
   "execution_count": 4,
   "metadata": {},
   "outputs": [],
   "source": [
    "class Atm: # Pascal Case.\n",
    "\n",
    "    # Data and Function should be there in class.\n",
    "\n",
    "    # Data.\n",
    "    # constructor. It is function inside a class. Create variables inside constructor.\n",
    "    # Put self in prefix of variables.\n",
    "    # instructur - special function - code inside constructor is run as soon object is created.\n",
    "    def __int__(self):\n",
    "        self.pin = ''\n",
    "        self.balance = 0\n",
    "        self.menu()\n",
    "\n",
    "    # Functions\n",
    "    # Pin change, pin set, withdrawal, balance.\n",
    "    def menu(self):\n",
    "        input(\"\"\"\n",
    "                \"\"\")\n",
    "\n",
    "\n",
    "    \n",
    "    "
   ]
  },
  {
   "cell_type": "code",
   "execution_count": 5,
   "metadata": {},
   "outputs": [],
   "source": [
    "obj = Atm()"
   ]
  },
  {
   "cell_type": "code",
   "execution_count": 6,
   "metadata": {},
   "outputs": [
    {
     "name": "stdout",
     "output_type": "stream",
     "text": [
      "<class '__main__.Atm'>\n"
     ]
    }
   ],
   "source": [
    "print(type(obj))"
   ]
  },
  {
   "cell_type": "code",
   "execution_count": 7,
   "metadata": {},
   "outputs": [
    {
     "ename": "AttributeError",
     "evalue": "'Atm' object has no attribute 'pin'",
     "output_type": "error",
     "traceback": [
      "\u001b[1;31m---------------------------------------------------------------------------\u001b[0m",
      "\u001b[1;31mAttributeError\u001b[0m                            Traceback (most recent call last)",
      "Cell \u001b[1;32mIn[7], line 2\u001b[0m\n\u001b[0;32m      1\u001b[0m \u001b[38;5;66;03m# objects can access variables and functions of the class.\u001b[39;00m\n\u001b[1;32m----> 2\u001b[0m obj\u001b[38;5;241m.\u001b[39mpin\n",
      "\u001b[1;31mAttributeError\u001b[0m: 'Atm' object has no attribute 'pin'"
     ]
    }
   ],
   "source": [
    "# objects can access variables and functions of the class.\n",
    "obj.pin"
   ]
  },
  {
   "cell_type": "code",
   "execution_count": 29,
   "metadata": {},
   "outputs": [],
   "source": [
    "# Build own data type - fraction like int, float.\n",
    "class frc:\n",
    "\n",
    "    # MAGIC METHODS\n",
    "    # Parameterized constructor\n",
    "    def __init__(self, x, y):\n",
    "        self.num = x\n",
    "        self.den = y\n",
    "\n",
    "    def __str__(self):\n",
    "        return f'{self.num}/{self.den}'\n",
    "    \n",
    "    def __add__(self, other):\n",
    "        new_num = self.num * other.den + self.den * other.num\n",
    "        new_den = self.den * other.den\n",
    "        return frc(new_num, new_den)\n",
    "    \n",
    "    def __sub__(self, other):\n",
    "        new_num = self.num * other.den - self.den * other.num\n",
    "        new_den = self.den * other.den\n",
    "        return frc(new_num, new_den)\n",
    "    \n",
    "    def __mul__(self, other):\n",
    "        new_num = self.num * other.num\n",
    "        new_den = self.den * other.den\n",
    "        return frc(new_num, new_den)\n",
    "    \n",
    "    def __truediv__(self, other):\n",
    "        new_num = self.num * other.den\n",
    "        new_den = self.den * other.num\n",
    "        return frc(new_num, new_den)\n",
    "    \n",
    "    def convert_to_decimal(self):\n",
    "        return self.num / self.den\n",
    "\n",
    "\n",
    "\n",
    "\n",
    "    \n",
    "\n"
   ]
  },
  {
   "cell_type": "code",
   "execution_count": 28,
   "metadata": {},
   "outputs": [
    {
     "name": "stdout",
     "output_type": "stream",
     "text": [
      "152/99\n"
     ]
    }
   ],
   "source": [
    "fr1 = frc(8, 9)\n",
    "fr2 = frc(11, 19)\n",
    "\n",
    "print(fr1 / fr2)"
   ]
  },
  {
   "cell_type": "code",
   "execution_count": 30,
   "metadata": {},
   "outputs": [
    {
     "data": {
      "text/plain": [
       "0.8888888888888888"
      ]
     },
     "execution_count": 30,
     "metadata": {},
     "output_type": "execute_result"
    }
   ],
   "source": [
    "fr1 = frc(8, 9)\n",
    "fr1.convert_to_decimal()"
   ]
  }
 ],
 "metadata": {
  "kernelspec": {
   "display_name": "base",
   "language": "python",
   "name": "python3"
  },
  "language_info": {
   "codemirror_mode": {
    "name": "ipython",
    "version": 3
   },
   "file_extension": ".py",
   "mimetype": "text/x-python",
   "name": "python",
   "nbconvert_exporter": "python",
   "pygments_lexer": "ipython3",
   "version": "3.11.5"
  }
 },
 "nbformat": 4,
 "nbformat_minor": 2
}
