{
  "cells": [
    {
      "cell_type": "markdown",
      "metadata": {
        "id": "FyUJ3PRAsPr4"
      },
      "source": [
        "##`Q-1:` Rectangle Class\n",
        "1. Write a Rectangle class in Python language, allowing you to build a rectangle with length and width attributes.\n",
        "\n",
        "2. Create a Perimeter() method to calculate the perimeter of the rectangle and a Area() method to calculate the area of ​​the rectangle.\n",
        "\n",
        "3. Create a method display() that display the length, width, perimeter and area of an object created using an instantiation on rectangle class."
      ]
    },
    {
      "cell_type": "markdown",
      "metadata": {
        "id": "GxUtOqJfssFK"
      },
      "source": [
        "Eg.\n",
        "After making above classes and methods, on executing below code:-\n",
        "```\n",
        "my_rectangle = Rectangle(3 , 4)\n",
        "my_rectangle.display()\n",
        "```\n",
        "\n",
        "`Output:`\n",
        "```\n",
        "The length of rectangle is:  3\n",
        "The width of rectangle is:  4\n",
        "The perimeter of rectangle is:  14\n",
        "The area of rectangle is:  12\n",
        "```\n"
      ]
    },
    {
      "cell_type": "code",
      "execution_count": 9,
      "metadata": {
        "id": "92_QT-Uj6NBg"
      },
      "outputs": [],
      "source": [
        "# write your code here\n",
        "\n",
        "class Rectangle:\n",
        "\n",
        "    def __init__(self, length, width):\n",
        "        self.length = length\n",
        "        self.width = width\n",
        "        self.perimeter_of_rect = 0\n",
        "        self.area_of_rect = 0\n",
        "\n",
        "    def perimeter(self):\n",
        "        self.perimeter_of_rect = 2 * (self.length + self.width)\n",
        "\n",
        "    def area(self):\n",
        "        self.area_of_rect = self.length * self.width\n",
        "\n",
        "    def display(self):\n",
        "        self.perimeter()\n",
        "        self.area()\n",
        "        print(f\"The length of rectangle is : {self.length}\")\n",
        "        print(f\"The width of rectangle is : {self.width}\")\n",
        "        print(f\"The perimeter of the rectangle is : {self.perimeter_of_rect}\")\n",
        "        print(f\"The area of rectangle is : {self.area_of_rect}\")  \n",
        "\n"
      ]
    },
    {
      "cell_type": "code",
      "execution_count": 10,
      "metadata": {},
      "outputs": [
        {
          "name": "stdout",
          "output_type": "stream",
          "text": [
            "The length of rectangle is : 3\n",
            "The width of rectangle is : 4\n",
            "The perimeter of the rectangle is : 14\n",
            "The area of rectangle is : 12\n"
          ]
        }
      ],
      "source": [
        "my_rectangle = Rectangle(3, 4)\n",
        "my_rectangle.display()"
      ]
    },
    {
      "cell_type": "markdown",
      "metadata": {
        "id": "r_GxrS0Vrdom"
      },
      "source": [
        "##`Q-2: Bank Class`\n",
        "\n",
        "1. Create a Python class called `BankAccount` which represents a bank account, having as attributes: `accountNumber` (numeric type), `name` (name of the account owner as string type), `balance`.\n",
        "2. Create a constructor with parameters: `accountNumber, name, balance`.\n",
        "3. Create a `Deposit()` method which manages the deposit actions.\n",
        "4. Create a `Withdrawal()` method  which manages withdrawals actions.\n",
        "5. Create an `bankFees()` method to apply the bank fees with a percentage of 5% of the balance account.\n",
        "6. Create a `display()` method to display account details.\n",
        "Give the complete code for the  BankAccount class."
      ]
    },
    {
      "cell_type": "markdown",
      "metadata": {
        "id": "qvVkOUJgvTV_"
      },
      "source": [
        "Eg.\n",
        "After making above classes and methods, on executing below code:-\n",
        "```\n",
        "newAccount = BankAccount(2178514584, \"Mandy\" , 2800)\n",
        "\n",
        "newAccount.Withdrawal(700)\n",
        "\n",
        "newAccount.Deposit(1000)\n",
        "\n",
        "newAccount.display()\n",
        "```\n",
        "\n",
        "`Output:`\n",
        "```\n",
        "Account Number :  2178514584\n",
        "Account Name :  Mandy\n",
        "Account Balance :  3100 ₹\n",
        "```"
      ]
    },
    {
      "cell_type": "code",
      "execution_count": 8,
      "metadata": {
        "id": "fUQOmQyA6YDR"
      },
      "outputs": [],
      "source": [
        "class BankAccount:\n",
        "\n",
        "    def __init__(self, account_number, account_holder_name, balance):\n",
        "\n",
        "        self.account_number = account_number\n",
        "        self.account_holder_name = account_holder_name\n",
        "        self.balance = balance\n",
        "\n",
        "    def Deposit(self, deposit_amount):\n",
        "\n",
        "        self.balance += deposit_amount\n",
        "\n",
        "    def Withdrawal(self, withdrawal_amount):\n",
        "\n",
        "        if withdrawal_amount <= self.balance:   \n",
        "            self.balance -= self.balance - withdrawal_amount\n",
        "        else: \n",
        "            print('Enough balance is not available in your account')\n",
        "\n",
        "    def bankFees(self):\n",
        "        self.balance = self.balance - (0.5 * self.balance)\n",
        "\n",
        "    def display(self):\n",
        "\n",
        "        print(f'Account Number  :  {self.account_number}')\n",
        "        print(f'Account Name    :  {self.account_holder_name}')\n",
        "        print(f'Account Balance :  {self.balance} rupees')\n",
        "\n",
        "\n",
        "\n"
      ]
    },
    {
      "cell_type": "code",
      "execution_count": 9,
      "metadata": {},
      "outputs": [
        {
          "name": "stdout",
          "output_type": "stream",
          "text": [
            "Account Number  :  2178514584\n",
            "Account Name    :  Mandy\n",
            "Account Balance :  1700 rupees\n"
          ]
        }
      ],
      "source": [
        "newAccount = BankAccount(2178514584, \"Mandy\" , 2800)\n",
        "\n",
        "newAccount.Withdrawal(700)\n",
        "\n",
        "newAccount.Deposit(1000)\n",
        "\n",
        "newAccount.display()"
      ]
    },
    {
      "cell_type": "markdown",
      "metadata": {
        "id": "QovcQAZTrgGU"
      },
      "source": [
        "##`Q-3:Computation class`\n",
        "\n",
        "1. Create a `Computation` class with a default constructor (without parameters) allowing to perform various calculations on integers numbers.\n",
        "2. Create a method called `Factorial()` which allows to calculate the factorial of an integer n. Integer n as parameter for this method\n",
        "\n",
        "3. Create a method called `naturalSum()` allowing to calculate the sum of the first n integers 1 + 2 + 3 + .. + n. Integer n as parameter for this method.\n",
        "\n",
        "4. Create a method called `testPrime()` in  the Calculation class to test the primality of a given integer n, n is Prime or Not? Integer n as parameter for this method.\n",
        "\n",
        "5. Create  a method called `testPrims()` allowing to test if two numbers are prime between them. Two integers are prime to one another if they have only `1` as their common divisor. Eg. 4 and 9 are prime to each other.\n",
        "\n",
        "5. Create a `tableMult()` method which creates and displays the multiplication table of a given integer. Then create an `allTablesMult()` method to display all the integer multiplication tables 1, 2, 3, ..., 9.\n",
        "\n",
        "6. Create a static `listDiv()` method that gets all the divisors of a given integer on new list called  Ldiv. Create another `listDivPrim()` method that gets all the prime divisors of a given integer."
      ]
    },
    {
      "cell_type": "code",
      "execution_count": 50,
      "metadata": {
        "id": "YEkPH70l6Z-o"
      },
      "outputs": [],
      "source": [
        "# write your code here\n",
        "\n",
        "class Computation:\n",
        "\n",
        "    def __init__(self):\n",
        "        print('The class object created')\n",
        "\n",
        "    def Factorial(self, n):\n",
        "        self.factorial = 1\n",
        "        if n > 0:\n",
        "            for num in range(1, n+1):\n",
        "                self.factorial = self.factorial * num\n",
        "            print(f'Factorial of {n} is {self.factorial}')\n",
        "        elif n == 0:\n",
        "            self.factorial = 1\n",
        "            print(f'Factorial of {n} is {self.factorial}')\n",
        "        else:\n",
        "            print('Input number is a negetive number, factorial is not possible.')\n",
        "\n",
        "    def naturalSum(self, n):\n",
        "        self.naturalsum = 0\n",
        "        for num in range(1, n+1):\n",
        "            self.naturalsum += num\n",
        "        print(f'Natural Sum of {n} is {self.naturalsum}')\n",
        "\n",
        "    def testPrime(self, n):\n",
        "        self.isPrime = True\n",
        "        if n > 0:\n",
        "            if n % 2 == 0:\n",
        "                self.isPrime = False\n",
        "            else:\n",
        "                for num in range(2, n):\n",
        "                    if n % num != 0:\n",
        "                        pass\n",
        "                    else:\n",
        "                        self.isPrime = False\n",
        "                        break\n",
        "            \n",
        "            if self.isPrime:\n",
        "                print(f'Given number {n} is Prime') \n",
        "            else:\n",
        "                print(f'Given number {n} is not Prime')\n",
        "        else:\n",
        "            print(f'{n} is a non-positive number. Non-positive numbers can not be prime.')\n",
        "        \n",
        "\n",
        "\n"
      ]
    },
    {
      "cell_type": "code",
      "execution_count": 52,
      "metadata": {},
      "outputs": [
        {
          "name": "stdout",
          "output_type": "stream",
          "text": [
            "The class object created\n",
            "Factorial of 0 is 1\n",
            "Natural Sum of 10 is 55\n",
            "Given number 3001 is Prime\n"
          ]
        }
      ],
      "source": [
        "compute = Computation()\n",
        "compute.Factorial(0)\n",
        "compute.naturalSum(10)\n",
        "compute.testPrime(3001)"
      ]
    },
    {
      "cell_type": "markdown",
      "metadata": {
        "id": "0yn23_oEriXa"
      },
      "source": [
        "##`Q-4`: Build flashcard using class in Python.\n",
        "\n",
        "Build a flashcard using class in python. A flashcard is a card having information on both sides, which can be used as an aid in memoization. Flashcards usually have a question on one side and an answer on the other.\n",
        "\n",
        "**Example 1:**\n",
        "\n",
        "Approach:\n",
        "\n",
        "- Create a class named FlashCard.\n",
        "- Initialize dictionary fruits using __init__() method. Here you have to define fruit name as key and it's color as value. E.g., {\"Banana\": \"yellow\", \"Strawberries\": \"pink\"}\n",
        "- Now randomly choose a pair from fruits by using _random_ module and store the key in variable _fruit_ and _value_ in variable color.\n",
        "- Now prompt the user to answer the color of the randomly chosen fruit.\n",
        "- If correct print correct else print wrong.\n",
        "\n",
        "Output:\n",
        "```bash\n",
        "welcome to fruit quiz\n",
        "What is the color of Strawberries\n",
        "pink\n",
        "Correct answer\n",
        "Enter 0, if you want to play again: 0\n",
        "What is the color of watermelon\n",
        "green\n",
        "Correct answer\n",
        "Enter 0, if you want to play again: 1\n",
        "```"
      ]
    },
    {
      "cell_type": "code",
      "execution_count": null,
      "metadata": {
        "id": "vCrUF6VU6l6w"
      },
      "outputs": [],
      "source": [
        "# write your code here\n",
        "\n",
        "import random\n",
        "\n",
        "class FlashCard:\n",
        "\n",
        "    def __init__(self):\n",
        "\n",
        "        self.fruit_color_dict = {\n",
        "        \"Apple\": [\"Red\", \"Green\", \"Yellow\"],\n",
        "        \"Banana\": [\"Yellow\"],\n",
        "        \"Grapes\": [\"Green\", \"Purple\", \"Red\"],\n",
        "        \"Orange\": [\"Orange\"],\n",
        "        \"Strawberry\": [\"Red\"],\n",
        "        \"Blueberry\": [\"Blue\"],\n",
        "        \"Mango\": [\"Yellow\", \"Orange\"],\n",
        "        \"Cherry\": [\"Red\"],\n",
        "        \"Watermelon\": [\"Green (outside), Red (inside)\"],\n",
        "        \"Pineapple\": [\"Brown (outside), Yellow (inside)\"]\n",
        "        }\n",
        "        print(\"Welcome to the Guess the fruit color Game\")\n",
        "\n",
        "    def game(self):\n",
        "\n",
        "        random_fruit = random.choice(list(self.fruit_color_dict.keys()))\n",
        "        random_color = self.fruit_color_dict[random_fruit]\n",
        "        random_color = [rc.lower() for rc in random_color]\n",
        "\n",
        "        user_input = input(f'What is the color of the fruit {random_fruit}')\n",
        "        user_input = user_input.lower()\n",
        "\n",
        "        if user_input in random_color:\n",
        "            print(f'{user_input}')\n",
        "            print('Correct answer')\n",
        "        else:\n",
        "            print('Incorrect answer')\n",
        "\n",
        "    def user_input_to_playgame(self):\n",
        "\n",
        "        self.user_input = input(f'Enter 0 if would like to play fruit game')\n",
        "        self.user_input = int(self.user_input)\n",
        "\n",
        "    def play_game(self):\n",
        "        \n",
        "        self.user_input_to_playgame()\n",
        "        if self.user_input == 0:\n",
        "            self.game()\n",
        "            self.display()\n",
        "        else:\n",
        "            self.display()\n",
        "\n",
        "\n",
        "    def display(self):\n",
        "\n",
        "        self.play_game()\n",
        "\n",
        "\n",
        "\n",
        "\n",
        "\n",
        "\n",
        "    \n",
        "\n",
        "    "
      ]
    },
    {
      "cell_type": "code",
      "execution_count": 97,
      "metadata": {},
      "outputs": [
        {
          "name": "stdout",
          "output_type": "stream",
          "text": [
            "Welcome to the Guess the fruit color Game\n",
            "Incorrect answer\n",
            "Incorrect answer\n",
            "Incorrect answer\n",
            "Incorrect answer\n",
            "green\n",
            "Correct answer\n",
            "Incorrect answer\n"
          ]
        },
        {
          "ename": "ValueError",
          "evalue": "invalid literal for int() with base 10: ''",
          "output_type": "error",
          "traceback": [
            "\u001b[1;31m---------------------------------------------------------------------------\u001b[0m",
            "\u001b[1;31mValueError\u001b[0m                                Traceback (most recent call last)",
            "Cell \u001b[1;32mIn[97], line 2\u001b[0m\n\u001b[0;32m      1\u001b[0m flash_card_game \u001b[38;5;241m=\u001b[39m FlashCard()\n\u001b[1;32m----> 2\u001b[0m flash_card_game\u001b[38;5;241m.\u001b[39mdisplay()\n",
            "Cell \u001b[1;32mIn[96], line 62\u001b[0m, in \u001b[0;36mFlashCard.display\u001b[1;34m(self)\u001b[0m\n\u001b[0;32m     60\u001b[0m \u001b[38;5;28;01mdef\u001b[39;00m \u001b[38;5;21mdisplay\u001b[39m(\u001b[38;5;28mself\u001b[39m):\n\u001b[1;32m---> 62\u001b[0m     \u001b[38;5;28mself\u001b[39m\u001b[38;5;241m.\u001b[39mplay_game()\n",
            "Cell \u001b[1;32mIn[96], line 56\u001b[0m, in \u001b[0;36mFlashCard.play_game\u001b[1;34m(self)\u001b[0m\n\u001b[0;32m     54\u001b[0m     \u001b[38;5;28mself\u001b[39m\u001b[38;5;241m.\u001b[39mdisplay()\n\u001b[0;32m     55\u001b[0m \u001b[38;5;28;01melse\u001b[39;00m:\n\u001b[1;32m---> 56\u001b[0m     \u001b[38;5;28mself\u001b[39m\u001b[38;5;241m.\u001b[39mdisplay()\n",
            "Cell \u001b[1;32mIn[96], line 62\u001b[0m, in \u001b[0;36mFlashCard.display\u001b[1;34m(self)\u001b[0m\n\u001b[0;32m     60\u001b[0m \u001b[38;5;28;01mdef\u001b[39;00m \u001b[38;5;21mdisplay\u001b[39m(\u001b[38;5;28mself\u001b[39m):\n\u001b[1;32m---> 62\u001b[0m     \u001b[38;5;28mself\u001b[39m\u001b[38;5;241m.\u001b[39mplay_game()\n",
            "Cell \u001b[1;32mIn[96], line 56\u001b[0m, in \u001b[0;36mFlashCard.play_game\u001b[1;34m(self)\u001b[0m\n\u001b[0;32m     54\u001b[0m     \u001b[38;5;28mself\u001b[39m\u001b[38;5;241m.\u001b[39mdisplay()\n\u001b[0;32m     55\u001b[0m \u001b[38;5;28;01melse\u001b[39;00m:\n\u001b[1;32m---> 56\u001b[0m     \u001b[38;5;28mself\u001b[39m\u001b[38;5;241m.\u001b[39mdisplay()\n",
            "Cell \u001b[1;32mIn[96], line 62\u001b[0m, in \u001b[0;36mFlashCard.display\u001b[1;34m(self)\u001b[0m\n\u001b[0;32m     60\u001b[0m \u001b[38;5;28;01mdef\u001b[39;00m \u001b[38;5;21mdisplay\u001b[39m(\u001b[38;5;28mself\u001b[39m):\n\u001b[1;32m---> 62\u001b[0m     \u001b[38;5;28mself\u001b[39m\u001b[38;5;241m.\u001b[39mplay_game()\n",
            "Cell \u001b[1;32mIn[96], line 54\u001b[0m, in \u001b[0;36mFlashCard.play_game\u001b[1;34m(self)\u001b[0m\n\u001b[0;32m     52\u001b[0m \u001b[38;5;28;01mif\u001b[39;00m \u001b[38;5;28mself\u001b[39m\u001b[38;5;241m.\u001b[39muser_input \u001b[38;5;241m==\u001b[39m \u001b[38;5;241m0\u001b[39m:\n\u001b[0;32m     53\u001b[0m     \u001b[38;5;28mself\u001b[39m\u001b[38;5;241m.\u001b[39mgame()\n\u001b[1;32m---> 54\u001b[0m     \u001b[38;5;28mself\u001b[39m\u001b[38;5;241m.\u001b[39mdisplay()\n\u001b[0;32m     55\u001b[0m \u001b[38;5;28;01melse\u001b[39;00m:\n\u001b[0;32m     56\u001b[0m     \u001b[38;5;28mself\u001b[39m\u001b[38;5;241m.\u001b[39mdisplay()\n",
            "Cell \u001b[1;32mIn[96], line 62\u001b[0m, in \u001b[0;36mFlashCard.display\u001b[1;34m(self)\u001b[0m\n\u001b[0;32m     60\u001b[0m \u001b[38;5;28;01mdef\u001b[39;00m \u001b[38;5;21mdisplay\u001b[39m(\u001b[38;5;28mself\u001b[39m):\n\u001b[1;32m---> 62\u001b[0m     \u001b[38;5;28mself\u001b[39m\u001b[38;5;241m.\u001b[39mplay_game()\n",
            "Cell \u001b[1;32mIn[96], line 54\u001b[0m, in \u001b[0;36mFlashCard.play_game\u001b[1;34m(self)\u001b[0m\n\u001b[0;32m     52\u001b[0m \u001b[38;5;28;01mif\u001b[39;00m \u001b[38;5;28mself\u001b[39m\u001b[38;5;241m.\u001b[39muser_input \u001b[38;5;241m==\u001b[39m \u001b[38;5;241m0\u001b[39m:\n\u001b[0;32m     53\u001b[0m     \u001b[38;5;28mself\u001b[39m\u001b[38;5;241m.\u001b[39mgame()\n\u001b[1;32m---> 54\u001b[0m     \u001b[38;5;28mself\u001b[39m\u001b[38;5;241m.\u001b[39mdisplay()\n\u001b[0;32m     55\u001b[0m \u001b[38;5;28;01melse\u001b[39;00m:\n\u001b[0;32m     56\u001b[0m     \u001b[38;5;28mself\u001b[39m\u001b[38;5;241m.\u001b[39mdisplay()\n",
            "    \u001b[1;31m[... skipping similar frames: FlashCard.display at line 62 (4 times), FlashCard.play_game at line 54 (3 times)]\u001b[0m\n",
            "Cell \u001b[1;32mIn[96], line 54\u001b[0m, in \u001b[0;36mFlashCard.play_game\u001b[1;34m(self)\u001b[0m\n\u001b[0;32m     52\u001b[0m \u001b[38;5;28;01mif\u001b[39;00m \u001b[38;5;28mself\u001b[39m\u001b[38;5;241m.\u001b[39muser_input \u001b[38;5;241m==\u001b[39m \u001b[38;5;241m0\u001b[39m:\n\u001b[0;32m     53\u001b[0m     \u001b[38;5;28mself\u001b[39m\u001b[38;5;241m.\u001b[39mgame()\n\u001b[1;32m---> 54\u001b[0m     \u001b[38;5;28mself\u001b[39m\u001b[38;5;241m.\u001b[39mdisplay()\n\u001b[0;32m     55\u001b[0m \u001b[38;5;28;01melse\u001b[39;00m:\n\u001b[0;32m     56\u001b[0m     \u001b[38;5;28mself\u001b[39m\u001b[38;5;241m.\u001b[39mdisplay()\n",
            "Cell \u001b[1;32mIn[96], line 62\u001b[0m, in \u001b[0;36mFlashCard.display\u001b[1;34m(self)\u001b[0m\n\u001b[0;32m     60\u001b[0m \u001b[38;5;28;01mdef\u001b[39;00m \u001b[38;5;21mdisplay\u001b[39m(\u001b[38;5;28mself\u001b[39m):\n\u001b[1;32m---> 62\u001b[0m     \u001b[38;5;28mself\u001b[39m\u001b[38;5;241m.\u001b[39mplay_game()\n",
            "Cell \u001b[1;32mIn[96], line 56\u001b[0m, in \u001b[0;36mFlashCard.play_game\u001b[1;34m(self)\u001b[0m\n\u001b[0;32m     54\u001b[0m     \u001b[38;5;28mself\u001b[39m\u001b[38;5;241m.\u001b[39mdisplay()\n\u001b[0;32m     55\u001b[0m \u001b[38;5;28;01melse\u001b[39;00m:\n\u001b[1;32m---> 56\u001b[0m     \u001b[38;5;28mself\u001b[39m\u001b[38;5;241m.\u001b[39mdisplay()\n",
            "Cell \u001b[1;32mIn[96], line 62\u001b[0m, in \u001b[0;36mFlashCard.display\u001b[1;34m(self)\u001b[0m\n\u001b[0;32m     60\u001b[0m \u001b[38;5;28;01mdef\u001b[39;00m \u001b[38;5;21mdisplay\u001b[39m(\u001b[38;5;28mself\u001b[39m):\n\u001b[1;32m---> 62\u001b[0m     \u001b[38;5;28mself\u001b[39m\u001b[38;5;241m.\u001b[39mplay_game()\n",
            "Cell \u001b[1;32mIn[96], line 51\u001b[0m, in \u001b[0;36mFlashCard.play_game\u001b[1;34m(self)\u001b[0m\n\u001b[0;32m     49\u001b[0m \u001b[38;5;28;01mdef\u001b[39;00m \u001b[38;5;21mplay_game\u001b[39m(\u001b[38;5;28mself\u001b[39m):\n\u001b[1;32m---> 51\u001b[0m     \u001b[38;5;28mself\u001b[39m\u001b[38;5;241m.\u001b[39muser_input_to_playgame()\n\u001b[0;32m     52\u001b[0m     \u001b[38;5;28;01mif\u001b[39;00m \u001b[38;5;28mself\u001b[39m\u001b[38;5;241m.\u001b[39muser_input \u001b[38;5;241m==\u001b[39m \u001b[38;5;241m0\u001b[39m:\n\u001b[0;32m     53\u001b[0m         \u001b[38;5;28mself\u001b[39m\u001b[38;5;241m.\u001b[39mgame()\n",
            "Cell \u001b[1;32mIn[96], line 43\u001b[0m, in \u001b[0;36mFlashCard.user_input_to_playgame\u001b[1;34m(self)\u001b[0m\n\u001b[0;32m     40\u001b[0m \u001b[38;5;28;01mdef\u001b[39;00m \u001b[38;5;21muser_input_to_playgame\u001b[39m(\u001b[38;5;28mself\u001b[39m):\n\u001b[0;32m     42\u001b[0m     \u001b[38;5;28mself\u001b[39m\u001b[38;5;241m.\u001b[39muser_input \u001b[38;5;241m=\u001b[39m \u001b[38;5;28minput\u001b[39m(\u001b[38;5;124mf\u001b[39m\u001b[38;5;124m'\u001b[39m\u001b[38;5;124mEnter 0 if would like to play fruit game\u001b[39m\u001b[38;5;124m'\u001b[39m)\n\u001b[1;32m---> 43\u001b[0m     \u001b[38;5;28mself\u001b[39m\u001b[38;5;241m.\u001b[39muser_input \u001b[38;5;241m=\u001b[39m \u001b[38;5;28mint\u001b[39m(\u001b[38;5;28mself\u001b[39m\u001b[38;5;241m.\u001b[39muser_input)\n",
            "\u001b[1;31mValueError\u001b[0m: invalid literal for int() with base 10: ''"
          ]
        }
      ],
      "source": [
        "flash_card_game = FlashCard()\n",
        "flash_card_game.display()"
      ]
    },
    {
      "cell_type": "markdown",
      "metadata": {
        "id": "GN2r0jbRewYr"
      },
      "source": [
        "## `Q-5:` Problem 5 based on OOP Python.\n",
        "\n",
        "TechWorld, a technology training center, wants to allocate courses for instructors. An instructor is identified by name, technology skills, experience and average feedback. An instructor is allocated a course, if he/she satisfies the below two conditions:\n",
        "- eligibility criteria:\n",
        "    - if experience is more than 3 years, average feedback should be 4.5 or more\n",
        "    - if experience is 3 years or less, average feedback should be 4 or more\n",
        "- he/she should posses the technology skill for the course\n",
        "\n",
        "Identify the class name and attributes to represent instructors. Write a Python program to implement the class chosen with its attributes and methods.\n",
        "\n",
        "**Note:**\n",
        "- Consider all instance variables to be private and methods to be public.\n",
        "- An instructor may have multiple technology skills, so consider instance variable, technology_skill to be a list.\n",
        "- *check_eligibility()*: Return true if eligibility criteria is satisfied by the instructor. Else, return false\n",
        "- *allocate_course(technology)*: Return true if the course which requires the given technology can be allocated to the instructor. Else, return false.\n",
        "\n",
        "Represent a few objects of the class, initialize instance variables using setter methods, invoke\n",
        "appropriate methods and test your program."
      ]
    },
    {
      "cell_type": "code",
      "execution_count": 128,
      "metadata": {
        "id": "pdMFuVFnlvKL"
      },
      "outputs": [],
      "source": [
        "# write your code here\n",
        "\n",
        "class Instructor:\n",
        "\n",
        "    def __init__(self, name, tech_skills, experience, avg_feedback):\n",
        "\n",
        "        self.__name = name\n",
        "        self.__tech_skills = tech_skills\n",
        "        self.__tech_skills = list(set(self.__tech_skills))\n",
        "        self.__tech_skills = [skill.lower() for skill in self.__tech_skills]\n",
        "        self.__tech_skills.sort()\n",
        "        self.__experience = experience\n",
        "        self.__avg_feedback = avg_feedback\n",
        "        self.course_skills = {'Python Back End Development': ['python', 'sql', \n",
        "                                                              'database']}\n",
        "        \n",
        "    def check_eligibility(self):\n",
        "\n",
        "        if self.__experience > 3 and self.__avg_feedback >= 4.5:\n",
        "            return True\n",
        "        elif self.__experience <= 3 and self.__avg_feedback >= 4:\n",
        "            return True\n",
        "        else:\n",
        "            return False\n",
        "        \n",
        "    def allocate_course(self):\n",
        "        \n",
        "        if self.check_eligibility(): \n",
        "            for course, skill in self.course_skills.items():\n",
        "                skill = [s.lower() for s in skill]\n",
        "                skill.sort()\n",
        "                if self.__tech_skills == skill:\n",
        "                    print(f'{self.__name} is allocated the course {course}')\n",
        "                else:\n",
        "                    print(f'{self.__name} is not allocated the course {course}')\n",
        "        else:\n",
        "            print(f'{self.__name} is not allocated any course as he / she is not eligible')"
      ]
    },
    {
      "cell_type": "code",
      "execution_count": 131,
      "metadata": {},
      "outputs": [
        {
          "name": "stdout",
          "output_type": "stream",
          "text": [
            "Akhilesh is not allocated any course as he / she is not eligible\n"
          ]
        },
        {
          "data": {
            "text/plain": [
              "(False, None)"
            ]
          },
          "execution_count": 131,
          "metadata": {},
          "output_type": "execute_result"
        }
      ],
      "source": [
        "akhilesh = Instructor('Akhilesh', ['Python', 'SQL', 'database'], 8 , 4.3)\n",
        "akhilesh.check_eligibility(), akhilesh.allocate_course()"
      ]
    },
    {
      "cell_type": "code",
      "execution_count": null,
      "metadata": {},
      "outputs": [
        {
          "data": {
            "text/plain": [
              "True"
            ]
          },
          "execution_count": 122,
          "metadata": {},
          "output_type": "execute_result"
        }
      ],
      "source": []
    },
    {
      "cell_type": "code",
      "execution_count": 115,
      "metadata": {},
      "outputs": [],
      "source": [
        "l = [1,2,4,0]\n",
        "l.sort()\n",
        "# l"
      ]
    }
  ],
  "metadata": {
    "colab": {
      "provenance": []
    },
    "kernelspec": {
      "display_name": "base",
      "language": "python",
      "name": "python3"
    },
    "language_info": {
      "codemirror_mode": {
        "name": "ipython",
        "version": 3
      },
      "file_extension": ".py",
      "mimetype": "text/x-python",
      "name": "python",
      "nbconvert_exporter": "python",
      "pygments_lexer": "ipython3",
      "version": "3.11.5"
    }
  },
  "nbformat": 4,
  "nbformat_minor": 0
}
