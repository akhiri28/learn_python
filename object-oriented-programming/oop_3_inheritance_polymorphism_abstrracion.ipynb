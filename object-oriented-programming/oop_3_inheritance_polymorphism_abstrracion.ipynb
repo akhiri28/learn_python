{
 "cells": [
  {
   "cell_type": "code",
   "execution_count": null,
   "metadata": {},
   "outputs": [],
   "source": [
    "# class relationships\n",
    "  ## Aggregations\n",
    "  ## Inheritance"
   ]
  },
  {
   "cell_type": "code",
   "execution_count": null,
   "metadata": {},
   "outputs": [],
   "source": [
    "## Aggregations - \"has a\" relationship - one class owns the other class. (class customer -class  address)\n",
    "# Owner class can not access the private variable of owned class. \n",
    "# Owner class has to use the getter method to get the private varaible.\n",
    "# Class diagram. - private, + public., rhombus on side of owner class showing the aggregation.\n",
    "# All data attributes are set private in practice\n",
    "class Customer:\n",
    "\n",
    "    def __init__(self, name, gender, address):\n",
    "\n",
    "        self.name = name\n",
    "        self.gender = gender\n",
    "        self.address = address # many things inside address\n",
    "\n",
    "    def print_address(self):\n",
    "\n",
    "        print(self.address.get_city(), self.address.pin, self.address.state)\n",
    "\n",
    "    def edit_profile(self, new_name, new_city, new_pin, new_state):\n",
    "\n",
    "        self.name = new_name\n",
    "        self.address.edit_address(new_city, new_pin, new_state)\n",
    "\n",
    "\n",
    "class Address:\n",
    "\n",
    "    def __init__(self, city, pin, state):\n",
    "\n",
    "        self.__city = city\n",
    "        self.pin = pin\n",
    "        self.state = state\n",
    "\n",
    "    def get_city(self):\n",
    "\n",
    "        return self.__city\n",
    "    \n",
    "    def edit_address(self, new_city, new_pin, new_state):\n",
    "\n",
    "        self.__city = new_city\n",
    "        self.pin = new_pin\n",
    "        self.state = new_state\n"
   ]
  },
  {
   "cell_type": "code",
   "execution_count": 5,
   "metadata": {},
   "outputs": [
    {
     "name": "stdout",
     "output_type": "stream",
     "text": [
      "Hyderabad 500068 Telanaga\n"
     ]
    }
   ],
   "source": [
    "addr_1 = Address('Hyderabad', 500068, 'Telanaga')\n",
    "cust_1 = Customer('Akhilesh', 'Male', addr_1)\n",
    "cust_1.print_address()"
   ]
  },
  {
   "cell_type": "code",
   "execution_count": 6,
   "metadata": {},
   "outputs": [
    {
     "name": "stdout",
     "output_type": "stream",
     "text": [
      "Adilabad 504001 Telangana\n"
     ]
    }
   ],
   "source": [
    "cust_1.edit_profile('Akhil', 'Adilabad', 504001, 'Telangana')\n",
    "cust_1.print_address()"
   ]
  },
  {
   "cell_type": "code",
   "execution_count": null,
   "metadata": {},
   "outputs": [],
   "source": [
    "## Inheritance\n",
    "\n",
    "# Child class inherits all data variables and methods from parents class.\n",
    "# use - code re-useability - redumdancy. - reduce the size the code. - optimal code.\n",
    "# Coding Principle - DRY - Dont repar yourself.\n",
    "# parent class 1 <|---- class child"
   ]
  },
  {
   "cell_type": "code",
   "execution_count": 1,
   "metadata": {},
   "outputs": [],
   "source": [
    "class User:\n",
    "\n",
    "    def __init__(self):\n",
    "\n",
    "        self.name = 'akhil'\n",
    "        # self.name = name\n",
    "    \n",
    "    def login(self):\n",
    "        print(\"please login\")\n",
    "\n",
    "\n",
    "class Student(User):\n",
    "\n",
    "    # def __init__(self, roll_no):\n",
    "\n",
    "    #     self.roll_no = roll_no\n",
    "\n",
    "    def enroll(self):\n",
    "\n",
    "        print('please enroll')"
   ]
  },
  {
   "cell_type": "code",
   "execution_count": null,
   "metadata": {},
   "outputs": [],
   "source": [
    "# akhil = User()\n",
    "akhilesh = Student() # Student object can be created with out creating the User object. "
   ]
  },
  {
   "cell_type": "code",
   "execution_count": 3,
   "metadata": {},
   "outputs": [
    {
     "data": {
      "text/plain": [
       "'akhil'"
      ]
     },
     "execution_count": 3,
     "metadata": {},
     "output_type": "execute_result"
    }
   ],
   "source": [
    "akhilesh.name\n"
   ]
  },
  {
   "cell_type": "code",
   "execution_count": null,
   "metadata": {},
   "outputs": [],
   "source": [
    "# If child does not have its constructor then it goes to parent constructor.\n",
    "# If child has it own contructor then it uses its own construtor.\n",
    "# Child can not access the parents private attribute and methods.\n",
    "# Parents private data can be access using getter method.\n",
    "\n",
    "# Python does not have protected. It has only public and private.\n",
    "\n",
    "# Method Overiding.\n",
    "  ## If child and parent have methods with same name. The child class method is executed.\n",
    "\n",
    "# Super Keyword.\n",
    "  ## syntax to call parents buy method.\n",
    "  ## Use super in child contructor to access both parent and child constructor.\n",
    "  ## super keyword can be used inside the class. Not outside the call.\n",
    "  ## super keyword can not access the varaibles.\n",
    "\n",
    "# Parent can not access child class."
   ]
  },
  {
   "cell_type": "code",
   "execution_count": null,
   "metadata": {},
   "outputs": [],
   "source": [
    "# 5 Types of Inheritance\n",
    "  ## Single - 1 parent - 1 child. child inherits from parent.\n",
    "  ## Multilevel - grandfather <- father <- child. the chain can be long in both the direction. \n",
    "     ### child can inherit all the attrbutes and methods of upper level class.\n",
    "  ## Hierarchial - 1 parent <- multiple children.\n",
    "  ## Multiple - (parent 1, parent 2) <- child. # Method resolution order.\n",
    "  ## Hybrid - Use different types of Inheritance."
   ]
  },
  {
   "cell_type": "code",
   "execution_count": null,
   "metadata": {},
   "outputs": [],
   "source": [
    "# Recursion."
   ]
  },
  {
   "cell_type": "code",
   "execution_count": null,
   "metadata": {},
   "outputs": [],
   "source": [
    "# Polymorphism.\n",
    "  ## Having mutiple faces / forms.\n",
    "    # Method Overiding\n",
    "    # Method Overloading - same name for two methods - different inputs and different output - Method overloading benifit is clean. - Python does not support.- Python recmmends to use default arguments.\n",
    "    # Operator Overloading. - '+' operator works differentlynd for number and string and lists."
   ]
  }
 ],
 "metadata": {
  "kernelspec": {
   "display_name": "base",
   "language": "python",
   "name": "python3"
  },
  "language_info": {
   "codemirror_mode": {
    "name": "ipython",
    "version": 3
   },
   "file_extension": ".py",
   "mimetype": "text/x-python",
   "name": "python",
   "nbconvert_exporter": "python",
   "pygments_lexer": "ipython3",
   "version": "3.11.5"
  }
 },
 "nbformat": 4,
 "nbformat_minor": 2
}
