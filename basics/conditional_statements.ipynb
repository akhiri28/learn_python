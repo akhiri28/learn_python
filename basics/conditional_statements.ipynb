{
 "cells": [
  {
   "cell_type": "code",
   "execution_count": null,
   "metadata": {},
   "outputs": [],
   "source": [
    "'''\n",
    "Conditional operator - returns True or False\n",
    "\n",
    "If - elif - else\n",
    "\t• If - conditional statement\n",
    "\t• Elif - conditional statement\n",
    "\t• Else: no conditional statement / statement.\n",
    "\t• As soon as a True conditional statement is encountered the \n",
    "      execution of if-elif-else stops or code comes out.\n",
    "\t• Nested if -elif -else conditions\n",
    "\n",
    "Indentation - programming - in python 4 spaces after loop start or if else.\n",
    "IDE like Vs Code - benefits - it takes care of things like indentation.\n",
    "\n",
    "Assignment Question\n",
    "- How will be find out if the given number is even or odd.\n",
    "'''\n",
    "\n",
    "# Ref https://www.w3schools.com/python/python_conditions.asp"
   ]
  },
  {
   "cell_type": "code",
   "execution_count": 25,
   "metadata": {},
   "outputs": [],
   "source": [
    "a = 10"
   ]
  },
  {
   "cell_type": "code",
   "execution_count": 19,
   "metadata": {},
   "outputs": [
    {
     "data": {
      "text/plain": [
       "(False, False)"
      ]
     },
     "execution_count": 19,
     "metadata": {},
     "output_type": "execute_result"
    }
   ],
   "source": [
    "#a >= 0 , a < 100, \n",
    "(a >= 0) and (a < 100), a >= 100"
   ]
  },
  {
   "cell_type": "code",
   "execution_count": null,
   "metadata": {},
   "outputs": [
    {
     "name": "stdout",
     "output_type": "stream",
     "text": [
      "Value a is 10 and it is less than 100\n",
      "if-elif-else condition is completed\n"
     ]
    }
   ],
   "source": [
    "if (a >= 0) and (a < 100): # True # Only look at first true encountered.\n",
    "    print(f\"Value a is {a} and it is less than 100\")\n",
    "elif a >= 5: # True\n",
    "    print(f\"Value a is {a} and it is greater than or equal to 100\")\n",
    "else:\n",
    "    print(\" a is  a negetive number\")\n",
    "\n",
    "\n",
    "print('if-elif-else condition is completed')"
   ]
  },
  {
   "cell_type": "code",
   "execution_count": 36,
   "metadata": {},
   "outputs": [
    {
     "name": "stdout",
     "output_type": "stream",
     "text": [
      "I am from SSC 2000 batch. Number of students were 100 so definetly we must had 2 sections\n"
     ]
    }
   ],
   "source": [
    "# Nested if-elif-else\n",
    "batch = 2000\n",
    "number_of_students = 100\n",
    "\n",
    "if batch == 2000:\n",
    "\n",
    "    if number_of_students >= 50:\n",
    "        print(f'I am from SSC {batch} batch. Number of students were {number_of_students} so definetly we must had 2 sections')\n",
    "    else:\n",
    "        print('I am from SSC 2000 batch. We must have had only 1 section')\n",
    "\n",
    "elif batch == 2001:\n",
    "\n",
    "        if number_of_students >= 50:\n",
    "            print('I am from SSC 2001 batch. Definetly we must had 2 sections')\n",
    "        else:\n",
    "            print('I am from SSC 2001 batch. We must have had only 1 section')\n",
    "\n",
    "else:\n",
    "    print('I am not from some other batch')"
   ]
  },
  {
   "cell_type": "code",
   "execution_count": null,
   "metadata": {},
   "outputs": [],
   "source": [
    "# If nothing is to be done after if\n",
    "a = 201\n",
    "b = 202\n",
    "\n",
    "if b > a:\n",
    "    pass\n",
    "    \n",
    "elif a > b:\n",
    "    print(\"a is greater than b\")\n",
    "\n",
    "else:\n",
    "    print(\"a is equal to b\")"
   ]
  },
  {
   "cell_type": "code",
   "execution_count": null,
   "metadata": {},
   "outputs": [
    {
     "name": "stdout",
     "output_type": "stream",
     "text": [
      "False True\n",
      "a is NOT greater than b\n"
     ]
    }
   ],
   "source": [
    "# We get a boolean value out of conditional statements.\n",
    "# Using not\n",
    "a = 33\n",
    "b = 200\n",
    "print(a > b, not a > b)\n",
    "if not a > b:\n",
    "  print(\"a is NOT greater than b\")"
   ]
  },
  {
   "cell_type": "code",
   "execution_count": 57,
   "metadata": {},
   "outputs": [
    {
     "name": "stdout",
     "output_type": "stream",
     "text": [
      "a and b is  False\n",
      "a or b is  True\n"
     ]
    },
    {
     "data": {
      "text/plain": [
       "True"
      ]
     },
     "execution_count": 57,
     "metadata": {},
     "output_type": "execute_result"
    }
   ],
   "source": [
    "# and , or\n",
    "a = False\n",
    "b = True\n",
    "c = True\n",
    "\n",
    "print('a and b is ', a and b)\n",
    "print('a or b is ', a or b)\n",
    "\n",
    "a or b and c"
   ]
  },
  {
   "cell_type": "code",
   "execution_count": 55,
   "metadata": {},
   "outputs": [
    {
     "name": "stdout",
     "output_type": "stream",
     "text": [
      "At least one of the conditions is True\n"
     ]
    }
   ],
   "source": [
    "a = 200\n",
    "b = 33\n",
    "c = 500\n",
    "if a > b or a > c:\n",
    "  print(\"At least one of the conditions is True\")"
   ]
  },
  {
   "cell_type": "code",
   "execution_count": null,
   "metadata": {},
   "outputs": [],
   "source": [
    "a = 200\n",
    "b = 33\n",
    "c = 500\n",
    "if a > b and c > a:\n",
    "  print(\"Both conditions are True\")"
   ]
  },
  {
   "cell_type": "code",
   "execution_count": 59,
   "metadata": {},
   "outputs": [
    {
     "name": "stdout",
     "output_type": "stream",
     "text": [
      "A\n"
     ]
    }
   ],
   "source": [
    "a = 360\n",
    "b = 330\n",
    "print(\"A\") if a > b else print(\"=\") if a == b else print(\"B\")"
   ]
  },
  {
   "cell_type": "code",
   "execution_count": 65,
   "metadata": {},
   "outputs": [
    {
     "name": "stdout",
     "output_type": "stream",
     "text": [
      "10\n"
     ]
    }
   ],
   "source": [
    "a = 320\n",
    "b = 330\n",
    "print(a + b) if a > b else print(b - a)"
   ]
  },
  {
   "cell_type": "code",
   "execution_count": 69,
   "metadata": {},
   "outputs": [
    {
     "name": "stdout",
     "output_type": "stream",
     "text": [
      "b is equal to a\n"
     ]
    }
   ],
   "source": [
    "a = 330\n",
    "b = 330\n",
    "if a > b: print(\"a is greater than b\")\n",
    "elif b > a: print(\"b is greater than a\")\n",
    "else: print(\"b is equal to a\")"
   ]
  },
  {
   "cell_type": "code",
   "execution_count": null,
   "metadata": {},
   "outputs": [],
   "source": [
    "# Assignment \n",
    "# How will be find out if the given number is even or odd."
   ]
  }
 ],
 "metadata": {
  "kernelspec": {
   "display_name": "base",
   "language": "python",
   "name": "python3"
  },
  "language_info": {
   "codemirror_mode": {
    "name": "ipython",
    "version": 3
   },
   "file_extension": ".py",
   "mimetype": "text/x-python",
   "name": "python",
   "nbconvert_exporter": "python",
   "pygments_lexer": "ipython3",
   "version": "3.11.5"
  }
 },
 "nbformat": 4,
 "nbformat_minor": 2
}
