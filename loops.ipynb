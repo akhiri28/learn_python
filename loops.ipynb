{
 "cells": [
  {
   "cell_type": "code",
   "execution_count": 2,
   "metadata": {},
   "outputs": [],
   "source": [
    "mylist = [1,2,3,4,5,6,7,8,9,10,11,12]"
   ]
  },
  {
   "cell_type": "code",
   "execution_count": 6,
   "metadata": {},
   "outputs": [
    {
     "name": "stdout",
     "output_type": "stream",
     "text": [
      "1 1\n",
      "2 8\n",
      "3 27\n",
      "4 64\n",
      "5 125\n",
      "6 216\n",
      "7 343\n",
      "8 512\n",
      "9 729\n",
      "10 1000\n",
      "11 1331\n",
      "12 1728\n"
     ]
    }
   ],
   "source": [
    "for num in mylist:\n",
    "    print(num , num ** 3) # iterable object.\n"
   ]
  },
  {
   "cell_type": "code",
   "execution_count": 8,
   "metadata": {},
   "outputs": [
    {
     "name": "stdout",
     "output_type": "stream",
     "text": [
      "0\n",
      "1\n",
      "2\n",
      "3\n",
      "4\n",
      "5\n",
      "6\n",
      "7\n",
      "8\n",
      "9\n"
     ]
    }
   ],
   "source": [
    "for i in range(10):\n",
    "    print(i)"
   ]
  },
  {
   "cell_type": "code",
   "execution_count": 11,
   "metadata": {},
   "outputs": [
    {
     "name": "stdout",
     "output_type": "stream",
     "text": [
      "1\n",
      "3\n",
      "5\n",
      "7\n",
      "9\n"
     ]
    }
   ],
   "source": [
    "for i in range(1, 11, 2):\n",
    "    print(i)"
   ]
  },
  {
   "cell_type": "code",
   "execution_count": 15,
   "metadata": {},
   "outputs": [
    {
     "name": "stdout",
     "output_type": "stream",
     "text": [
      "number is  0  and reminder when devided by 2 is  0\n",
      "0 is an even number\n",
      "number is  1  and reminder when devided by 2 is  1\n",
      "1 is an odd number\n",
      "number is  2  and reminder when devided by 2 is  0\n",
      "2 is an even number\n",
      "number is  3  and reminder when devided by 2 is  1\n",
      "3 is an odd number\n",
      "number is  4  and reminder when devided by 2 is  0\n",
      "4 is an even number\n",
      "number is  5  and reminder when devided by 2 is  1\n",
      "5 is an odd number\n",
      "number is  6  and reminder when devided by 2 is  0\n",
      "6 is an even number\n",
      "number is  7  and reminder when devided by 2 is  1\n",
      "7 is an odd number\n",
      "number is  8  and reminder when devided by 2 is  0\n",
      "8 is an even number\n",
      "number is  9  and reminder when devided by 2 is  1\n",
      "9 is an odd number\n",
      "number is  10  and reminder when devided by 2 is  0\n",
      "10 is an even number\n",
      "number is  11  and reminder when devided by 2 is  1\n",
      "11 is an odd number\n",
      "number is  12  and reminder when devided by 2 is  0\n",
      "12 is an even number\n",
      "number is  13  and reminder when devided by 2 is  1\n",
      "13 is an odd number\n",
      "number is  14  and reminder when devided by 2 is  0\n",
      "14 is an even number\n",
      "number is  15  and reminder when devided by 2 is  1\n",
      "15 is an odd number\n",
      "number is  16  and reminder when devided by 2 is  0\n",
      "16 is an even number\n",
      "number is  17  and reminder when devided by 2 is  1\n",
      "17 is an odd number\n",
      "number is  18  and reminder when devided by 2 is  0\n",
      "18 is an even number\n",
      "number is  19  and reminder when devided by 2 is  1\n",
      "19 is an odd number\n",
      "number is  20  and reminder when devided by 2 is  0\n",
      "20 is an even number\n",
      "number is  21  and reminder when devided by 2 is  1\n",
      "21 is an odd number\n",
      "number is  22  and reminder when devided by 2 is  0\n",
      "22 is an even number\n",
      "number is  23  and reminder when devided by 2 is  1\n",
      "23 is an odd number\n",
      "number is  24  and reminder when devided by 2 is  0\n",
      "24 is an even number\n",
      "number is  25  and reminder when devided by 2 is  1\n",
      "25 is an odd number\n",
      "number is  26  and reminder when devided by 2 is  0\n",
      "26 is an even number\n",
      "number is  27  and reminder when devided by 2 is  1\n",
      "27 is an odd number\n",
      "number is  28  and reminder when devided by 2 is  0\n",
      "28 is an even number\n",
      "number is  29  and reminder when devided by 2 is  1\n",
      "29 is an odd number\n",
      "number is  30  and reminder when devided by 2 is  0\n",
      "30 is an even number\n",
      "number is  31  and reminder when devided by 2 is  1\n",
      "31 is an odd number\n",
      "number is  32  and reminder when devided by 2 is  0\n",
      "32 is an even number\n",
      "number is  33  and reminder when devided by 2 is  1\n",
      "33 is an odd number\n",
      "number is  34  and reminder when devided by 2 is  0\n",
      "34 is an even number\n",
      "number is  35  and reminder when devided by 2 is  1\n",
      "35 is an odd number\n",
      "number is  36  and reminder when devided by 2 is  0\n",
      "36 is an even number\n",
      "number is  37  and reminder when devided by 2 is  1\n",
      "37 is an odd number\n",
      "number is  38  and reminder when devided by 2 is  0\n",
      "38 is an even number\n",
      "number is  39  and reminder when devided by 2 is  1\n",
      "39 is an odd number\n",
      "number is  40  and reminder when devided by 2 is  0\n",
      "40 is an even number\n",
      "number is  41  and reminder when devided by 2 is  1\n",
      "41 is an odd number\n",
      "number is  42  and reminder when devided by 2 is  0\n",
      "42 is an even number\n",
      "number is  43  and reminder when devided by 2 is  1\n",
      "43 is an odd number\n",
      "number is  44  and reminder when devided by 2 is  0\n",
      "44 is an even number\n",
      "number is  45  and reminder when devided by 2 is  1\n",
      "45 is an odd number\n",
      "number is  46  and reminder when devided by 2 is  0\n",
      "46 is an even number\n",
      "number is  47  and reminder when devided by 2 is  1\n",
      "47 is an odd number\n",
      "number is  48  and reminder when devided by 2 is  0\n",
      "48 is an even number\n",
      "number is  49  and reminder when devided by 2 is  1\n",
      "49 is an odd number\n",
      "number is  50  and reminder when devided by 2 is  0\n",
      "50 is an even number\n",
      "number is  51  and reminder when devided by 2 is  1\n",
      "51 is an odd number\n",
      "number is  52  and reminder when devided by 2 is  0\n",
      "52 is an even number\n",
      "number is  53  and reminder when devided by 2 is  1\n",
      "53 is an odd number\n",
      "number is  54  and reminder when devided by 2 is  0\n",
      "54 is an even number\n",
      "number is  55  and reminder when devided by 2 is  1\n",
      "55 is an odd number\n",
      "number is  56  and reminder when devided by 2 is  0\n",
      "56 is an even number\n",
      "number is  57  and reminder when devided by 2 is  1\n",
      "57 is an odd number\n",
      "number is  58  and reminder when devided by 2 is  0\n",
      "58 is an even number\n",
      "number is  59  and reminder when devided by 2 is  1\n",
      "59 is an odd number\n",
      "number is  60  and reminder when devided by 2 is  0\n",
      "60 is an even number\n",
      "number is  61  and reminder when devided by 2 is  1\n",
      "61 is an odd number\n",
      "number is  62  and reminder when devided by 2 is  0\n",
      "62 is an even number\n",
      "number is  63  and reminder when devided by 2 is  1\n",
      "63 is an odd number\n",
      "number is  64  and reminder when devided by 2 is  0\n",
      "64 is an even number\n",
      "number is  65  and reminder when devided by 2 is  1\n",
      "65 is an odd number\n",
      "number is  66  and reminder when devided by 2 is  0\n",
      "66 is an even number\n",
      "number is  67  and reminder when devided by 2 is  1\n",
      "67 is an odd number\n",
      "number is  68  and reminder when devided by 2 is  0\n",
      "68 is an even number\n",
      "number is  69  and reminder when devided by 2 is  1\n",
      "69 is an odd number\n",
      "number is  70  and reminder when devided by 2 is  0\n",
      "70 is an even number\n",
      "number is  71  and reminder when devided by 2 is  1\n",
      "71 is an odd number\n",
      "number is  72  and reminder when devided by 2 is  0\n",
      "72 is an even number\n",
      "number is  73  and reminder when devided by 2 is  1\n",
      "73 is an odd number\n",
      "number is  74  and reminder when devided by 2 is  0\n",
      "74 is an even number\n",
      "number is  75  and reminder when devided by 2 is  1\n",
      "75 is an odd number\n",
      "number is  76  and reminder when devided by 2 is  0\n",
      "76 is an even number\n",
      "number is  77  and reminder when devided by 2 is  1\n",
      "77 is an odd number\n",
      "number is  78  and reminder when devided by 2 is  0\n",
      "78 is an even number\n",
      "number is  79  and reminder when devided by 2 is  1\n",
      "79 is an odd number\n",
      "number is  80  and reminder when devided by 2 is  0\n",
      "80 is an even number\n",
      "number is  81  and reminder when devided by 2 is  1\n",
      "81 is an odd number\n",
      "number is  82  and reminder when devided by 2 is  0\n",
      "82 is an even number\n",
      "number is  83  and reminder when devided by 2 is  1\n",
      "83 is an odd number\n",
      "number is  84  and reminder when devided by 2 is  0\n",
      "84 is an even number\n",
      "number is  85  and reminder when devided by 2 is  1\n",
      "85 is an odd number\n",
      "number is  86  and reminder when devided by 2 is  0\n",
      "86 is an even number\n",
      "number is  87  and reminder when devided by 2 is  1\n",
      "87 is an odd number\n",
      "number is  88  and reminder when devided by 2 is  0\n",
      "88 is an even number\n",
      "number is  89  and reminder when devided by 2 is  1\n",
      "89 is an odd number\n",
      "number is  90  and reminder when devided by 2 is  0\n",
      "90 is an even number\n",
      "number is  91  and reminder when devided by 2 is  1\n",
      "91 is an odd number\n",
      "number is  92  and reminder when devided by 2 is  0\n",
      "92 is an even number\n",
      "number is  93  and reminder when devided by 2 is  1\n",
      "93 is an odd number\n",
      "number is  94  and reminder when devided by 2 is  0\n",
      "94 is an even number\n",
      "number is  95  and reminder when devided by 2 is  1\n",
      "95 is an odd number\n",
      "number is  96  and reminder when devided by 2 is  0\n",
      "96 is an even number\n",
      "number is  97  and reminder when devided by 2 is  1\n",
      "97 is an odd number\n",
      "number is  98  and reminder when devided by 2 is  0\n",
      "98 is an even number\n",
      "number is  99  and reminder when devided by 2 is  1\n",
      "99 is an odd number\n",
      "number is  100  and reminder when devided by 2 is  0\n",
      "100 is an even number\n"
     ]
    }
   ],
   "source": [
    "# Find even number from first 100 +ve integers\n",
    "\n",
    "for num in range(0, 101):\n",
    "\n",
    "    # check for even num\n",
    "    # % to check for reminder\n",
    "    reminder = num % 2\n",
    "    print('number is ', num, ' and reminder when devided by 2 is ', reminder)\n",
    "    if reminder == 0:\n",
    "        print(f'{num} is an even number')\n",
    "    else:\n",
    "        print(f'{num} is an odd number')\n"
   ]
  },
  {
   "cell_type": "code",
   "execution_count": 18,
   "metadata": {},
   "outputs": [
    {
     "name": "stdout",
     "output_type": "stream",
     "text": [
      "[1, 6, 89]\n",
      "number is  1  and cube of number is  1\n",
      "number is  6  and cube of number is  216\n",
      "number is  89  and cube of number is  704969\n"
     ]
    }
   ],
   "source": [
    "mylist = [1, 6, 89]\n",
    "print(mylist)\n",
    "for num in mylist:\n",
    "\n",
    "    # Find the cube of the number\n",
    "    cube = num ** 3\n",
    "    print('number is ', num, ' and cube of number is ', cube)\n",
    "\n"
   ]
  },
  {
   "cell_type": "code",
   "execution_count": 24,
   "metadata": {},
   "outputs": [
    {
     "name": "stdout",
     "output_type": "stream",
     "text": [
      "['My', 'name', 'is', 'Akhilesh']\n"
     ]
    },
    {
     "data": {
      "text/plain": [
       "('My', 'name')"
      ]
     },
     "execution_count": 24,
     "metadata": {},
     "output_type": "execute_result"
    }
   ],
   "source": [
    "sample_string = 'My name is Akhilesh' # My , name, is, Akhilesh\n",
    "sample_name_list = sample_string.split(' ')\n",
    "print(sample_name_list)\n",
    "sample_name_list[0], sample_name_list[1]"
   ]
  },
  {
   "cell_type": "code",
   "execution_count": 25,
   "metadata": {},
   "outputs": [
    {
     "name": "stdout",
     "output_type": "stream",
     "text": [
      "My\n",
      "name\n",
      "is\n",
      "Akhilesh\n"
     ]
    }
   ],
   "source": [
    "# Iterating over the string\n",
    "for slice in sample_name_list:\n",
    "    print(slice)"
   ]
  }
 ],
 "metadata": {
  "kernelspec": {
   "display_name": "base",
   "language": "python",
   "name": "python3"
  },
  "language_info": {
   "codemirror_mode": {
    "name": "ipython",
    "version": 3
   },
   "file_extension": ".py",
   "mimetype": "text/x-python",
   "name": "python",
   "nbconvert_exporter": "python",
   "pygments_lexer": "ipython3",
   "version": "3.11.5"
  }
 },
 "nbformat": 4,
 "nbformat_minor": 2
}
