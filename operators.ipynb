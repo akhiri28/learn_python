{
 "cells": [
  {
   "cell_type": "code",
   "execution_count": 2,
   "metadata": {},
   "outputs": [
    {
     "name": "stdout",
     "output_type": "stream",
     "text": [
      "Division - 2.25, Modulus - 1, Floor - 2., Ceil - 3\n"
     ]
    }
   ],
   "source": [
    "# Arithmetic operators\n",
    "\n",
    "# BODMAS - Brackets, Order (Power), Division, Multiplication, Addition, Subtract.\n",
    "\n",
    "a = 1 + 2 * 3\n",
    "# print(a)\n",
    "\n",
    "b = 1 + 2 - 3\n",
    "# print(b)\n",
    "\n",
    "c = (1 + 2) * 3\n",
    "# print(c)\n",
    "\n",
    "d = 1 ** 2 * 3\n",
    "# print(a, b, c, d)\n",
    "\n",
    "\n",
    "# /\tDivision\tx / y\t\n",
    "# %\tModulus\tx % y\t\n",
    "# **\tExponentiation\tx ** y\t\n",
    "# //\tFloor division\tx // y\n",
    "\n",
    "x = 4\n",
    "y = 9\n",
    "# print(type(x), type(y))\n",
    "\n",
    "e = y / x # (9 / 4)\n",
    "f = y % x # (reminder)\n",
    "# g = y // x # (quotient)\n",
    "\n",
    "\n",
    "\n",
    "import math\n",
    "from math import ceil, floor\n",
    "\n",
    "h = ceil(e) # Number next to e\n",
    "g = floor(e) # number before e\n",
    "math.ceil(2.6)\n",
    "\n",
    "print(f\"Division - {e}, Modulus - {f}, Floor - {g}., Ceil - {h}\")"
   ]
  },
  {
   "cell_type": "code",
   "execution_count": null,
   "metadata": {},
   "outputs": [
    {
     "name": "stdout",
     "output_type": "stream",
     "text": [
      "24\n",
      "6\n"
     ]
    }
   ],
   "source": [
    "# Assignment operators\n",
    "\n",
    "# Self explainatory\n",
    "# =\t    x = 5\tx = 5\t\n",
    "# +=\tx += 3\tx = x + 3\t\n",
    "# -=\tx -= 3\tx = x - 3\t\n",
    "# *=\tx *= 3\tx = x * 3\t\n",
    "# /=\tx /= 3\tx = x / 3\t\n",
    "# %=\tx %= 3\tx = x % 3\t\n",
    "# //=\tx //= 3\tx = x // 3\t\n",
    "# **=\tx **= 3\tx = x ** 3\n",
    "\n",
    "x = 5\n",
    "x += 3\n",
    "x -= 2\n",
    "x *= 4\n",
    "print(x)\n",
    "print(x := 6)\n",
    "\n",
    "# while (line := input(\"Enter text: \")) != \"exit\":\n",
    "#     print(f\"You entered: {line}\")"
   ]
  },
  {
   "cell_type": "code",
   "execution_count": 2,
   "metadata": {},
   "outputs": [
    {
     "ename": "",
     "evalue": "",
     "output_type": "error",
     "traceback": [
      "\u001b[1;31mCannot execute code, session has been disposed. Please try restarting the Kernel."
     ]
    },
    {
     "ename": "",
     "evalue": "",
     "output_type": "error",
     "traceback": [
      "\u001b[1;31mCannot execute code, session has been disposed. Please try restarting the Kernel. \n",
      "\u001b[1;31mView Jupyter <a href='command:jupyter.viewOutput'>log</a> for further details."
     ]
    }
   ],
   "source": [
    "input(\"Enter text: \")"
   ]
  },
  {
   "cell_type": "code",
   "execution_count": 2,
   "metadata": {},
   "outputs": [
    {
     "name": "stdout",
     "output_type": "stream",
     "text": [
      "3\n"
     ]
    }
   ],
   "source": [
    "print(3)"
   ]
  },
  {
   "cell_type": "code",
   "execution_count": null,
   "metadata": {},
   "outputs": [
    {
     "name": "stdout",
     "output_type": "stream",
     "text": [
      "Hello, world\n"
     ]
    }
   ],
   "source": [
    "# Assignment operators\n",
    "# Comparison operators\n",
    "# Logical operators\n",
    "# Identity operators\n",
    "# Membership operators\n",
    "# Bitwise operators"
   ]
  },
  {
   "cell_type": "markdown",
   "metadata": {},
   "source": []
  }
 ],
 "metadata": {
  "kernelspec": {
   "display_name": "base",
   "language": "python",
   "name": "python3"
  },
  "language_info": {
   "codemirror_mode": {
    "name": "ipython",
    "version": 3
   },
   "file_extension": ".py",
   "mimetype": "text/x-python",
   "name": "python",
   "nbconvert_exporter": "python",
   "pygments_lexer": "ipython3",
   "version": "3.11.5"
  }
 },
 "nbformat": 4,
 "nbformat_minor": 2
}
